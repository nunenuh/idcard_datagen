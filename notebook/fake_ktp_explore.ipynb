{
 "cells": [
  {
   "cell_type": "code",
   "execution_count": 1,
   "metadata": {},
   "outputs": [],
   "source": [
    "import pandas as pd\n",
    "import numpy as np\n",
    "import arrow\n",
    "from datetime import datetime\n",
    "import random\n",
    "from datagen.csvgen import randgen\n",
    "from datagen import config"
   ]
  },
  {
   "cell_type": "code",
   "execution_count": 168,
   "metadata": {},
   "outputs": [
    {
     "name": "stdout",
     "output_type": "stream",
     "text": [
      "CPU times: user 209 ms, sys: 4.24 ms, total: 214 ms\n",
      "Wall time: 218 ms\n"
     ]
    }
   ],
   "source": [
    "%%time\n",
    "wil = randgen.wilayah()\n",
    "bds, bdl = randgen.birth_date()\n",
    "places_data = [wil[1][1],wil[2][1]]\n",
    "bdp = randgen.birth_place(places_data).upper()\n",
    "ttl = f'{bdp}, {bds}'\n",
    "\n",
    "\n",
    "nik = randgen.nik(wil[0][0], wil[1][0], wil[2][0], bdl[0], bdl[1], bdl[2])\n",
    "\n",
    "\n",
    "gdr = randgen.gender()\n",
    "blt = randgen.blood_type()\n",
    "rtrw = randgen.rtrw().upper()\n",
    "kel = wil[3][1].upper()\n",
    "kec = wil[2][1].upper()\n",
    "\n",
    "\n",
    "agm = randgen.agama().upper()\n",
    "spk = randgen.perkawinan().upper()\n",
    "krj = randgen.pekerjaan().upper()\n",
    "wrg = randgen.kewarganegaraan()\n",
    "blk = randgen.berlaku()\n",
    "\n",
    "sgp = wil[1][1]\n",
    "sgd = randgen.sign_date().upper()\n",
    "\n"
   ]
  },
  {
   "cell_type": "code",
   "execution_count": 169,
   "metadata": {},
   "outputs": [
    {
     "data": {
      "text/plain": [
       "('KOTA BAU BAU', '22-11-2014')"
      ]
     },
     "execution_count": 169,
     "metadata": {},
     "output_type": "execute_result"
    }
   ],
   "source": [
    "sgp, sgd"
   ]
  },
  {
   "cell_type": "code",
   "execution_count": 125,
   "metadata": {},
   "outputs": [
    {
     "data": {
      "text/plain": [
       "'A'"
      ]
     },
     "execution_count": 125,
     "metadata": {},
     "output_type": "execute_result"
    }
   ],
   "source": [
    "blt"
   ]
  },
  {
   "cell_type": "code",
   "execution_count": 5,
   "metadata": {},
   "outputs": [
    {
     "data": {
      "text/plain": [
       "'011/009'"
      ]
     },
     "execution_count": 5,
     "metadata": {},
     "output_type": "execute_result"
    }
   ],
   "source": []
  },
  {
   "cell_type": "code",
   "execution_count": 6,
   "metadata": {},
   "outputs": [
    {
     "data": {
      "text/plain": [
       "('17-08-1968', ['17', '08', '68'])"
      ]
     },
     "execution_count": 6,
     "metadata": {},
     "output_type": "execute_result"
    }
   ],
   "source": [
    "bds, bdl"
   ]
  },
  {
   "cell_type": "code",
   "execution_count": 18,
   "metadata": {},
   "outputs": [
    {
     "data": {
      "text/plain": [
       "[('35', 'JAWA TIMUR'),\n",
       " ('15', 'KABUPATEN SIDOARJO'),\n",
       " ('08', 'Sidoarjo'),\n",
       " ('2002', 'Suko')]"
      ]
     },
     "execution_count": 18,
     "metadata": {},
     "output_type": "execute_result"
    }
   ],
   "source": [
    "w"
   ]
  },
  {
   "cell_type": "code",
   "execution_count": 20,
   "metadata": {},
   "outputs": [
    {
     "data": {
      "text/plain": [
       "'3515081708683193'"
      ]
     },
     "execution_count": 20,
     "metadata": {},
     "output_type": "execute_result"
    }
   ],
   "source": [
    "\n",
    "n"
   ]
  },
  {
   "cell_type": "code",
   "execution_count": null,
   "metadata": {},
   "outputs": [],
   "source": []
  },
  {
   "cell_type": "code",
   "execution_count": null,
   "metadata": {},
   "outputs": [],
   "source": []
  },
  {
   "cell_type": "code",
   "execution_count": null,
   "metadata": {},
   "outputs": [],
   "source": []
  }
 ],
 "metadata": {
  "kernelspec": {
   "display_name": "Python 3.6.8 64-bit ('dlearn': conda)",
   "language": "python",
   "name": "python36864bitdlearnconda54b2ea4882264d059af3c47949da46dc"
  },
  "language_info": {
   "codemirror_mode": {
    "name": "ipython",
    "version": 3
   },
   "file_extension": ".py",
   "mimetype": "text/x-python",
   "name": "python",
   "nbconvert_exporter": "python",
   "pygments_lexer": "ipython3",
   "version": "3.6.8"
  }
 },
 "nbformat": 4,
 "nbformat_minor": 4
}
