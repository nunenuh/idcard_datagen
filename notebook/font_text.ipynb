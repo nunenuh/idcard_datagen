{
 "cells": [
  {
   "cell_type": "code",
   "execution_count": 1,
   "metadata": {
    "collapsed": true
   },
   "outputs": [],
   "source": [
    "%load_ext autoreload\n",
    "%autoreload 2"
   ]
  },
  {
   "cell_type": "code",
   "execution_count": 2,
   "outputs": [],
   "source": [
    "from pathlib import Path\n",
    "import cv2 as cv\n",
    "import matplotlib\n",
    "import matplotlib.pyplot as plt\n",
    "import numpy as np\n",
    "from idcard_datagen import utils"
   ],
   "metadata": {
    "collapsed": false,
    "pycharm": {
     "name": "#%%\n"
    }
   }
  },
  {
   "cell_type": "code",
   "execution_count": 3,
   "outputs": [],
   "source": [
    "matplotlib.rcParams['figure.figsize'] = (12,12)"
   ],
   "metadata": {
    "collapsed": false,
    "pycharm": {
     "name": "#%%\n"
    }
   }
  },
  {
   "cell_type": "code",
   "execution_count": 12,
   "outputs": [
    {
     "ename": "AttributeError",
     "evalue": "module 'cv2.cv2' has no attribute 'freetype'",
     "output_type": "error",
     "traceback": [
      "\u001B[0;31m---------------------------------------------------------------------------\u001B[0m",
      "\u001B[0;31mAttributeError\u001B[0m                            Traceback (most recent call last)",
      "\u001B[0;32m<ipython-input-12-7e3a1666ddf1>\u001B[0m in \u001B[0;36m<module>\u001B[0;34m\u001B[0m\n\u001B[1;32m      2\u001B[0m \u001B[0mocra_ttf_path\u001B[0m \u001B[0;34m=\u001B[0m \u001B[0;34m'../data/fonts/ocr_a_ext.ttf'\u001B[0m\u001B[0;34m\u001B[0m\u001B[0;34m\u001B[0m\u001B[0m\n\u001B[1;32m      3\u001B[0m \u001B[0;34m\u001B[0m\u001B[0m\n\u001B[0;32m----> 4\u001B[0;31m \u001B[0mft\u001B[0m \u001B[0;34m=\u001B[0m \u001B[0mcv\u001B[0m\u001B[0;34m.\u001B[0m\u001B[0mfreetype\u001B[0m\u001B[0;34m.\u001B[0m\u001B[0mcreateFreeType2\u001B[0m\u001B[0;34m(\u001B[0m\u001B[0;34m)\u001B[0m\u001B[0;34m\u001B[0m\u001B[0;34m\u001B[0m\u001B[0m\n\u001B[0m\u001B[1;32m      5\u001B[0m \u001B[0mft\u001B[0m\u001B[0;34m.\u001B[0m\u001B[0mloadFontData\u001B[0m\u001B[0;34m(\u001B[0m\u001B[0mfontFileName\u001B[0m\u001B[0;34m=\u001B[0m\u001B[0marial_ttf_path\u001B[0m\u001B[0;34m,\u001B[0m\u001B[0mid\u001B[0m\u001B[0;34m=\u001B[0m\u001B[0;36m0\u001B[0m\u001B[0;34m)\u001B[0m\u001B[0;34m\u001B[0m\u001B[0;34m\u001B[0m\u001B[0m\n\u001B[1;32m      6\u001B[0m \u001B[0;34m\u001B[0m\u001B[0m\n",
      "\u001B[0;31mAttributeError\u001B[0m: module 'cv2.cv2' has no attribute 'freetype'"
     ]
    }
   ],
   "source": [
    "arial_ttf_path = 'data/fonts/arial.ttf'\n",
    "ocra_ttf_path = '../data/fonts/ocr_a_ext.ttf'\n",
    "\n",
    "ft = cv.freetype.createFreeType2()\n",
    "ft.loadFontData(fontFileName=arial_ttf_path,id=0)"
   ],
   "metadata": {
    "collapsed": false,
    "pycharm": {
     "name": "#%%\n"
    }
   }
  },
  {
   "cell_type": "code",
   "execution_count": null,
   "outputs": [],
   "source": [
    "img = np.zeros((100, 300, 3), dtype=np.uint8)\n",
    "ft.putText(img=img,\n",
    "           text='Quick Fox',\n",
    "           org=(15, 70),\n",
    "           fontHeight=60,\n",
    "           color=(255,  255, 255),\n",
    "           thickness=-1,\n",
    "           line_type=cv.LINE_AA,\n",
    "           bottomLeftOrigin=True)\n",
    "\n",
    "plt.imshow(img)\n",
    "\n"
   ],
   "metadata": {
    "collapsed": false,
    "pycharm": {
     "name": "#%%\n"
    }
   }
  },
  {
   "cell_type": "code",
   "execution_count": 18,
   "outputs": [
    {
     "data": {
      "text/plain": "<matplotlib.image.AxesImage at 0x7fb150f01a90>"
     },
     "execution_count": 18,
     "metadata": {},
     "output_type": "execute_result"
    },
    {
     "data": {
      "text/plain": "<Figure size 864x864 with 1 Axes>",
      "image/png": "[encoded data removed]"
     },
     "metadata": {
      "needs_background": "light"
     },
     "output_type": "display_data"
    }
   ],
   "source": [
    "from PIL import Image, ImageDraw, ImageFont\n",
    "\n",
    "color = (0, 0, 0)\n",
    "text = '01'\n",
    "\n",
    "N = 500\n",
    "size_image = width_image, height_image = N, N\n",
    "\n",
    "img = Image.new('RGB', size_image, color='white')\n",
    "font_path = ocra_ttf_path\n",
    "font = ImageFont.truetype(font_path, size=100)\n",
    "draw = ImageDraw.Draw(img)\n",
    "width_text, height_text = draw.textsize(text, font)\n",
    "\n",
    "offset_x, offset_y = font.getoffset(text)\n",
    "width_text += offset_x\n",
    "height_text += offset_y\n",
    "\n",
    "top_left_x = width_image / 2 - width_text / 2\n",
    "top_left_y = height_image / 2 - height_text / 2\n",
    "xy = top_left_x, top_left_y\n",
    "\n",
    "draw.text(xy, text, font=font, fill=color)\n",
    "\n",
    "# img.show()\n",
    "plt.imshow(img)"
   ],
   "metadata": {
    "collapsed": false,
    "pycharm": {
     "name": "#%%\n"
    }
   }
  },
  {
   "cell_type": "code",
   "execution_count": null,
   "outputs": [],
   "source": [
    "\n"
   ],
   "metadata": {
    "collapsed": false,
    "pycharm": {
     "name": "#%%\n"
    }
   }
  }
 ],
 "metadata": {
  "kernelspec": {
   "display_name": "Python 3",
   "language": "python",
   "name": "python3"
  },
  "language_info": {
   "codemirror_mode": {
    "name": "ipython",
    "version": 2
   },
   "file_extension": ".py",
   "mimetype": "text/x-python",
   "name": "python",
   "nbconvert_exporter": "python",
   "pygments_lexer": "ipython2",
   "version": "2.7.6"
  }
 },
 "nbformat": 4,
 "nbformat_minor": 0
}