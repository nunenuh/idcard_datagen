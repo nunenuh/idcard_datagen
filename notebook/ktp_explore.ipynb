{
 "cells": [
  {
   "cell_type": "code",
   "execution_count": 1,
   "metadata": {},
   "outputs": [],
   "source": [
    "%load_ext autoreload\n",
    "%autoreload 2"
   ]
  },
  {
   "cell_type": "code",
   "execution_count": 2,
   "metadata": {},
   "outputs": [],
   "source": [
    "import arrow\n",
    "import random\n",
    "import pandas as pd\n",
    "import numpy as np\n",
    "from datetime import datetime\n",
    "from datagen.csvgen.base import randgen, randrec\n",
    "from datagen.csvgen.ner import converter\n",
    "from tqdm import tqdm"
   ]
  },
  {
   "cell_type": "code",
   "execution_count": 3,
   "metadata": {},
   "outputs": [
    {
     "name": "stdout",
     "output_type": "stream",
     "text": [
      "CPU times: user 168 ms, sys: 17.8 ms, total: 185 ms\n",
      "Wall time: 186 ms\n"
     ]
    },
    {
     "data": {
      "text/plain": [
       "{'provinsi': 'PROVINSI DKI JAKARTA',\n",
       " 'kabupaten': 'JAKARTA TIMUR',\n",
       " 'nik': '3175090410871337',\n",
       " 'nama': 'ENJELINA DIMAYU',\n",
       " 'ttl': 'CIRACAS, 04-10-1987',\n",
       " 'gender': 'PEREMPUAN',\n",
       " 'goldar': 'A',\n",
       " 'alamat': 'JL.  KLAKAH REJO 5',\n",
       " 'rtrw': '029/001',\n",
       " 'kelurahan': 'CIRACAS',\n",
       " 'kecamatan': 'CIRACAS',\n",
       " 'agama': 'ISLAM',\n",
       " 'perkawinan': 'BELUM KAWIN',\n",
       " 'pekerjaan': 'BELUM/TIDAK BEKERJA',\n",
       " 'kewarganegaraan': 'WNI',\n",
       " 'berlaku': 'SEUMUR HIDUP',\n",
       " 'sign_place': 'JAKARTA TIMUR',\n",
       " 'sign_date': '10-09-2017'}"
      ]
     },
     "execution_count": 3,
     "metadata": {},
     "output_type": "execute_result"
    }
   ],
   "source": [
    "%%time\n",
    "randrec.ktp_data(kode_wilayah=[\"31\"])"
   ]
  },
  {
   "cell_type": "code",
   "execution_count": 4,
   "metadata": {},
   "outputs": [
    {
     "name": "stderr",
     "output_type": "stream",
     "text": [
      "100%|██████████| 10/10 [00:01<00:00,  5.57it/s]\n"
     ]
    }
   ],
   "source": [
    "ktp_data = randrec.ktp_generator(10, kode_wilayah=[\"31\"])"
   ]
  },
  {
   "cell_type": "code",
   "execution_count": 5,
   "metadata": {},
   "outputs": [],
   "source": [
    "ktp_data.to_csv('data/ktp_data_130k_record.csv', index=False, index_label=False)"
   ]
  },
  {
   "cell_type": "code",
   "execution_count": 6,
   "metadata": {},
   "outputs": [],
   "source": [
    "def clean_kode(kode):\n",
    "    if kode != None and '|' in kode:\n",
    "            kode = kode.split(\"|\")\n",
    "    return kode"
   ]
  },
  {
   "cell_type": "code",
   "execution_count": 7,
   "metadata": {},
   "outputs": [
    {
     "data": {
      "text/plain": [
       "['31', '32']"
      ]
     },
     "execution_count": 7,
     "metadata": {},
     "output_type": "execute_result"
    }
   ],
   "source": [
    "clean_kode(\"31|32\")"
   ]
  },
  {
   "cell_type": "code",
   "execution_count": 8,
   "metadata": {},
   "outputs": [
    {
     "data": {
      "text/plain": [
       "'10k'"
      ]
     },
     "execution_count": 8,
     "metadata": {},
     "output_type": "execute_result"
    }
   ],
   "source": [
    "from si_prefix import si_format\n",
    "def num_format(num, precision=0):\n",
    "    out = si_format(num, precision=precision)\n",
    "    out = out.split(\" \")\n",
    "    out = \"\".join(out)\n",
    "    return out\n",
    "\n",
    "num_format(10000)"
   ]
  },
  {
   "cell_type": "code",
   "execution_count": 9,
   "metadata": {},
   "outputs": [
    {
     "data": {
      "text/plain": [
       "'1611449988'"
      ]
     },
     "execution_count": 9,
     "metadata": {},
     "output_type": "execute_result"
    }
   ],
   "source": [
    "import time\n",
    "str(f'{time.time():.0f}')"
   ]
  },
  {
   "cell_type": "code",
   "execution_count": null,
   "metadata": {},
   "outputs": [],
   "source": []
  }
 ],
 "metadata": {
  "kernelspec": {
   "display_name": "Python 3",
   "language": "python",
   "name": "python3"
  },
  "language_info": {
   "codemirror_mode": {
    "name": "ipython",
    "version": 3
   },
   "file_extension": ".py",
   "mimetype": "text/x-python",
   "name": "python",
   "nbconvert_exporter": "python",
   "pygments_lexer": "ipython3",
   "version": "3.6.8"
  }
 },
 "nbformat": 4,
 "nbformat_minor": 4
}
