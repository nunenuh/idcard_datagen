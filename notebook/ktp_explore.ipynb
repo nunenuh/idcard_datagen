{
 "cells": [
  {
   "cell_type": "code",
   "execution_count": 1,
   "metadata": {},
   "outputs": [],
   "source": [
    "%load_ext autoreload\n",
    "%autoreload 2"
   ]
  },
  {
   "cell_type": "code",
   "execution_count": 310,
   "metadata": {},
   "outputs": [],
   "source": [
    "import arrow\n",
    "import random\n",
    "import pandas as pd\n",
    "import numpy as np\n",
    "from datetime import datetime\n",
    "from datagen.csvgen.base import randgen, randrec\n",
    "from datagen.csvgen.ner import converter\n",
    "from tqdm import tqdm"
   ]
  },
  {
   "cell_type": "code",
   "execution_count": 3,
   "metadata": {},
   "outputs": [
    {
     "name": "stdout",
     "output_type": "stream",
     "text": [
      "CPU times: user 224 ms, sys: 14.7 ms, total: 239 ms\n",
      "Wall time: 771 ms\n"
     ]
    },
    {
     "data": {
      "text/plain": [
       "{'provinsi': 'PROVINSI P A P U A',\n",
       " 'kabupaten': 'KABUPATEN DEIYAI',\n",
       " 'nik': '9128021312632881',\n",
       " 'nama': 'RONALD LIEM',\n",
       " 'ttl': 'DEIYAI, 13-12-1963',\n",
       " 'gender': 'LAKI-LAKI',\n",
       " 'goldar': 'A',\n",
       " 'alamat': 'JL TEBET BRT RAYA KAV 68',\n",
       " 'rtrw': '022/017',\n",
       " 'kelurahan': 'WAITAKOTU',\n",
       " 'kecamatan': 'TIGI TIMUR',\n",
       " 'agama': 'KATHOLIK',\n",
       " 'perkawinan': 'CERAI MATI',\n",
       " 'pekerjaan': 'WIRASWASTA',\n",
       " 'kewarganegaraan': 'WNI',\n",
       " 'berlaku': 'SEUMUR HIDUP',\n",
       " 'sign_place': 'DEIYAI',\n",
       " 'sign_date': '05-04-2015'}"
      ]
     },
     "execution_count": 3,
     "metadata": {},
     "output_type": "execute_result"
    }
   ],
   "source": [
    "%%time\n",
    "randrec.ktp_data()"
   ]
  },
  {
   "cell_type": "code",
   "execution_count": 34,
   "metadata": {},
   "outputs": [
    {
     "name": "stderr",
     "output_type": "stream",
     "text": [
      "100%|██████████| 11000/11000 [31:14<00:00,  5.87it/s]\n"
     ]
    }
   ],
   "source": [
    "ktp_data = randrec.ktp_generator(11000)"
   ]
  },
  {
   "cell_type": "code",
   "execution_count": 304,
   "metadata": {},
   "outputs": [],
   "source": [
    "ktp_data.to_csv('data/ktp_data_11000_record.csv', index=False, index_label=False)"
   ]
  }
 ],
 "metadata": {
  "kernelspec": {
   "display_name": "Python 3.6.8 64-bit ('dlearn': conda)",
   "language": "python",
   "name": "python36864bitdlearnconda54b2ea4882264d059af3c47949da46dc"
  },
  "language_info": {
   "codemirror_mode": {
    "name": "ipython",
    "version": 3
   },
   "file_extension": ".py",
   "mimetype": "text/x-python",
   "name": "python",
   "nbconvert_exporter": "python",
   "pygments_lexer": "ipython3",
   "version": "3.6.8"
  }
 },
 "nbformat": 4,
 "nbformat_minor": 4
}
