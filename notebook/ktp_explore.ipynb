{
 "cells": [
  {
   "cell_type": "code",
   "execution_count": 24,
   "metadata": {},
   "outputs": [
    {
     "name": "stdout",
     "output_type": "stream",
     "text": [
      "The autoreload extension is already loaded. To reload it, use:\n",
      "  %reload_ext autoreload\n"
     ]
    }
   ],
   "source": [
    "%load_ext autoreload\n",
    "%autoreload 2"
   ]
  },
  {
   "cell_type": "code",
   "execution_count": 44,
   "metadata": {},
   "outputs": [],
   "source": [
    "import arrow\n",
    "import random\n",
    "import pandas as pd\n",
    "import numpy as np\n",
    "from datetime import datetime\n",
    "from datagen.csvgen.base import randgen, randrec\n",
    "from datagen.csvgen.ner import converter\n",
    "from tqdm import tqdm"
   ]
  },
  {
   "cell_type": "code",
   "execution_count": 45,
   "metadata": {},
   "outputs": [
    {
     "name": "stdout",
     "output_type": "stream",
     "text": [
      "CPU times: user 328 ms, sys: 23.6 ms, total: 351 ms\n",
      "Wall time: 351 ms\n"
     ]
    },
    {
     "data": {
      "text/plain": [
       "{'provinsi': 'PROVINSI JAWA BARAT',\n",
       " 'kabupaten': 'KABUPATEN INDRAMAYU',\n",
       " 'nik': '3212271905699203',\n",
       " 'nama': 'ALDINO MUAMMAD H',\n",
       " 'ttl': 'INDRAMAYU, 19-05-1969',\n",
       " 'gender': 'LAKI-LAKI',\n",
       " 'goldar': 'O',\n",
       " 'alamat': 'RUKO MODERNLAND BLOK DR/31',\n",
       " 'rtrw': '017/009',\n",
       " 'kelurahan': 'CADANG PINGGAN',\n",
       " 'kecamatan': 'SUKAGUMIWANG',\n",
       " 'agama': 'KRISTEN',\n",
       " 'perkawinan': 'KAWIN',\n",
       " 'pekerjaan': 'PETANI/PEKEBUN',\n",
       " 'kewarganegaraan': 'WNI',\n",
       " 'berlaku': 'SEUMUR HIDUP',\n",
       " 'sign_place': 'INDRAMAYU',\n",
       " 'sign_date': '29-06-2020'}"
      ]
     },
     "execution_count": 45,
     "metadata": {},
     "output_type": "execute_result"
    }
   ],
   "source": [
    "%%time\n",
    "randrec.ktp_data()"
   ]
  },
  {
   "cell_type": "code",
   "execution_count": null,
   "metadata": {},
   "outputs": [
    {
     "name": "stderr",
     "output_type": "stream",
     "text": [
      " 18%|█▊        | 22952/130000 [1:57:49<10:24:15,  2.86it/s]"
     ]
    }
   ],
   "source": [
    "ktp_data = randrec.ktp_generator(130000)"
   ]
  },
  {
   "cell_type": "code",
   "execution_count": null,
   "metadata": {},
   "outputs": [],
   "source": [
    "ktp_data.to_csv('data/ktp_data_130k_record.csv', index=False, index_label=False)"
   ]
  },
  {
   "cell_type": "code",
   "execution_count": null,
   "metadata": {},
   "outputs": [],
   "source": []
  }
 ],
 "metadata": {
  "kernelspec": {
   "display_name": "Python 3.6.8 64-bit ('dlearn': conda)",
   "language": "python",
   "name": "python36864bitdlearnconda54b2ea4882264d059af3c47949da46dc"
  },
  "language_info": {
   "codemirror_mode": {
    "name": "ipython",
    "version": 3
   },
   "file_extension": ".py",
   "mimetype": "text/x-python",
   "name": "python",
   "nbconvert_exporter": "python",
   "pygments_lexer": "ipython3",
   "version": "3.6.8"
  }
 },
 "nbformat": 4,
 "nbformat_minor": 4
}
