{
 "cells": [
  {
   "cell_type": "code",
   "execution_count": 1,
   "metadata": {},
   "outputs": [],
   "source": [
    "%load_ext autoreload\n",
    "%autoreload 2"
   ]
  },
  {
   "cell_type": "code",
   "execution_count": 2,
   "metadata": {},
   "outputs": [],
   "source": [
    "import arrow\n",
    "import random\n",
    "import pandas as pd\n",
    "import numpy as np\n",
    "from datetime import datetime\n",
    "from datagen.csvgen.base import randgen, randrec\n",
    "from datagen.csvgen.ner import converter\n",
    "from tqdm import tqdm"
   ]
  },
  {
   "cell_type": "code",
   "execution_count": 3,
   "metadata": {},
   "outputs": [
    {
     "name": "stdout",
     "output_type": "stream",
     "text": [
      "CPU times: user 1.66 s, sys: 211 ms, total: 1.87 s\n",
      "Wall time: 1.88 s\n"
     ]
    },
    {
     "data": {
      "text/plain": [
       "['07-08-2017',\n",
       " '09-11-2014',\n",
       " '21-06-2012',\n",
       " '06-05-2019',\n",
       " '12-10-2012',\n",
       " 'SEUMUR HIDUP',\n",
       " '19-02-2019',\n",
       " '12-03-2011',\n",
       " '28-11-2013',\n",
       " '24-12-2018']"
      ]
     },
     "execution_count": 3,
     "metadata": {},
     "output_type": "execute_result"
    }
   ],
   "source": [
    "%%time\n",
    "[randrec.ktp_data(kode_wilayah=[\"31\"], berlaku_date_prob=0.8)['berlaku'] for i in range(10)]"
   ]
  },
  {
   "cell_type": "code",
   "execution_count": 30,
   "metadata": {},
   "outputs": [
    {
     "name": "stderr",
     "output_type": "stream",
     "text": [
      "100%|██████████| 30/30 [00:05<00:00,  5.56it/s]\n"
     ]
    }
   ],
   "source": [
    "ktp_data = randrec.ktp_generator(30, kode_wilayah=[\"31\"], name_degree_prob=0.1, name_abbrev_prob=0.1)"
   ]
  },
  {
   "cell_type": "code",
   "execution_count": 31,
   "metadata": {},
   "outputs": [
    {
     "data": {
      "text/plain": [
       "0                              YULINDASARI\n",
       "1                          UMMU KHADIJAH W\n",
       "2              IMANUEL MARFEL DEFRON, M.T.\n",
       "3                        YESSY WAHYU PUTRI\n",
       "4                              GOGO NOVENA\n",
       "5                  IGNASIUS LUCKY SANDIN D\n",
       "6                          USWATUN RAHIMAH\n",
       "7                               HIVA AHOLO\n",
       "8                   SEPTIYAN RIZKY EFFENDI\n",
       "9                      NOEL APTAGUNA EWITH\n",
       "10                   RUDIANTO SARAKA, S.H.\n",
       "11                          RISYA I RAHAYU\n",
       "12    AFRIEDIANTO ISTIGFARAH PRATAMA PUTRA\n",
       "13                         ENJANG SUMIARSA\n",
       "14                            EBENES SUHUN\n",
       "15                               MONA LUKI\n",
       "16                             ABILA HASAN\n",
       "17                   PALAKI PALAUNI HIKILA\n",
       "18                        FIRLI FIRLIANI.N\n",
       "19               ARINDA KRIS M DWI PRATIWI\n",
       "20                          FAZAR SAEFUL R\n",
       "21                      MOZA YULIA STEFANI\n",
       "22                             ELSYA OMEGA\n",
       "23                              NOVINGATUN\n",
       "24                WANTI REGINA MAGNES OLLA\n",
       "25                             RUDI SABUTI\n",
       "26                           LAS S NIRMALA\n",
       "27      FRANCISKA LAMTIURMA YUNITA SINURAT\n",
       "28                           WIWID RINALDI\n",
       "29                           YULIO PELEALU\n",
       "Name: nama, dtype: object"
      ]
     },
     "execution_count": 31,
     "metadata": {},
     "output_type": "execute_result"
    }
   ],
   "source": [
    "ktp_data['nama']"
   ]
  },
  {
   "cell_type": "code",
   "execution_count": 5,
   "metadata": {},
   "outputs": [],
   "source": [
    "ktp_data.to_csv('data/ktp_data_130k_record.csv', index=False, index_label=False)"
   ]
  },
  {
   "cell_type": "code",
   "execution_count": 6,
   "metadata": {},
   "outputs": [],
   "source": [
    "def clean_kode(kode):\n",
    "    if kode != None and '|' in kode:\n",
    "            kode = kode.split(\"|\")\n",
    "    return kode"
   ]
  },
  {
   "cell_type": "code",
   "execution_count": 7,
   "metadata": {},
   "outputs": [
    {
     "data": {
      "text/plain": [
       "['31', '32']"
      ]
     },
     "execution_count": 7,
     "metadata": {},
     "output_type": "execute_result"
    }
   ],
   "source": [
    "clean_kode(\"31|32\")"
   ]
  },
  {
   "cell_type": "code",
   "execution_count": 8,
   "metadata": {},
   "outputs": [
    {
     "data": {
      "text/plain": [
       "'10k'"
      ]
     },
     "execution_count": 8,
     "metadata": {},
     "output_type": "execute_result"
    }
   ],
   "source": [
    "from si_prefix import si_format\n",
    "def num_format(num, precision=0):\n",
    "    out = si_format(num, precision=precision)\n",
    "    out = out.split(\" \")\n",
    "    out = \"\".join(out)\n",
    "    return out\n",
    "\n",
    "num_format(10000)"
   ]
  },
  {
   "cell_type": "code",
   "execution_count": 9,
   "metadata": {},
   "outputs": [
    {
     "data": {
      "text/plain": [
       "'1611449988'"
      ]
     },
     "execution_count": 9,
     "metadata": {},
     "output_type": "execute_result"
    }
   ],
   "source": [
    "import time\n",
    "str(f'{time.time():.0f}')"
   ]
  },
  {
   "cell_type": "code",
   "execution_count": null,
   "metadata": {},
   "outputs": [],
   "source": []
  }
 ],
 "metadata": {
  "kernelspec": {
   "display_name": "Python 3",
   "language": "python",
   "name": "python3"
  },
  "language_info": {
   "codemirror_mode": {
    "name": "ipython",
    "version": 3
   },
   "file_extension": ".py",
   "mimetype": "text/x-python",
   "name": "python",
   "nbconvert_exporter": "python",
   "pygments_lexer": "ipython3",
   "version": "3.6.8"
  }
 },
 "nbformat": 4,
 "nbformat_minor": 4
}
