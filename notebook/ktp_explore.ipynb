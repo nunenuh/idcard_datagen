{
 "cells": [
  {
   "cell_type": "code",
   "execution_count": 1,
   "metadata": {},
   "outputs": [],
   "source": [
    "%load_ext autoreload\n",
    "%autoreload 2"
   ]
  },
  {
   "cell_type": "code",
   "execution_count": 2,
   "metadata": {},
   "outputs": [],
   "source": [
    "import arrow\n",
    "import random\n",
    "import pandas as pd\n",
    "import numpy as np\n",
    "from datetime import datetime\n",
    "from datagen.csvgen.base import randgen, randrec\n",
    "from datagen.csvgen.ner import converter\n",
    "from tqdm import tqdm"
   ]
  },
  {
   "cell_type": "code",
   "execution_count": 3,
   "metadata": {},
   "outputs": [
    {
     "name": "stdout",
     "output_type": "stream",
     "text": [
      "CPU times: user 366 ms, sys: 15.8 ms, total: 382 ms\n",
      "Wall time: 796 ms\n"
     ]
    },
    {
     "data": {
      "text/plain": [
       "{'provinsi': 'PROVINSI DKI JAKARTA',\n",
       " 'kabupaten': 'JAKARTA BARAT',\n",
       " 'nik': '3173071702617812',\n",
       " 'nama': 'AKBAR HOOMAN VESUVIUS',\n",
       " 'ttl': 'PAL MERAH, 17-02-1961',\n",
       " 'gender': 'LAKI-LAKI',\n",
       " 'goldar': 'B',\n",
       " 'alamat': 'JL RAYA SERANG KM 15/58',\n",
       " 'rtrw': '020/025',\n",
       " 'kelurahan': 'SLIPI',\n",
       " 'kecamatan': 'PAL MERAH',\n",
       " 'agama': 'ISLAM',\n",
       " 'perkawinan': 'BELUM KAWIN',\n",
       " 'pekerjaan': 'KARYAWAN HONORER',\n",
       " 'kewarganegaraan': 'WNI',\n",
       " 'berlaku': 'SEUMUR HIDUP',\n",
       " 'sign_place': 'JAKARTA BARAT',\n",
       " 'sign_date': '12-10-2011'}"
      ]
     },
     "execution_count": 3,
     "metadata": {},
     "output_type": "execute_result"
    }
   ],
   "source": [
    "%%time\n",
    "randrec.ktp_data(kode_wilayah=[\"31\"])"
   ]
  },
  {
   "cell_type": "code",
   "execution_count": 13,
   "metadata": {},
   "outputs": [
    {
     "name": "stderr",
     "output_type": "stream",
     "text": [
      "100%|██████████| 10/10 [00:04<00:00,  2.42it/s]\n"
     ]
    }
   ],
   "source": [
    "ktp_data = randrec.ktp_generator(10, kode_wilayah=[\"31\"])"
   ]
  },
  {
   "cell_type": "code",
   "execution_count": null,
   "metadata": {},
   "outputs": [],
   "source": [
    "ktp_data.to_csv('data/ktp_data_130k_record.csv', index=False, index_label=False)"
   ]
  },
  {
   "cell_type": "code",
   "execution_count": 19,
   "metadata": {},
   "outputs": [],
   "source": [
    "def clean_kode(kode):\n",
    "    if kode != None and '|' in kode:\n",
    "            kode = kode.split(\"|\")\n",
    "    return kode"
   ]
  },
  {
   "cell_type": "code",
   "execution_count": 21,
   "metadata": {},
   "outputs": [
    {
     "data": {
      "text/plain": [
       "['31', '32']"
      ]
     },
     "execution_count": 21,
     "metadata": {},
     "output_type": "execute_result"
    }
   ],
   "source": [
    "clean_kode(\"31|32\")"
   ]
  },
  {
   "cell_type": "code",
   "execution_count": 27,
   "metadata": {},
   "outputs": [
    {
     "data": {
      "text/plain": [
       "'10k'"
      ]
     },
     "execution_count": 27,
     "metadata": {},
     "output_type": "execute_result"
    }
   ],
   "source": [
    "from si_prefix import si_format\n",
    "def num_format(num, precision=0):\n",
    "    out = si_format(num, precision=precision)\n",
    "    out = out.split(\" \")\n",
    "    out = \"\".join(out)\n",
    "    return out\n",
    "\n",
    "num_format(10000)"
   ]
  },
  {
   "cell_type": "code",
   "execution_count": 50,
   "metadata": {},
   "outputs": [
    {
     "data": {
      "text/plain": [
       "'1605844543'"
      ]
     },
     "execution_count": 50,
     "metadata": {},
     "output_type": "execute_result"
    }
   ],
   "source": [
    "import time\n",
    "str(f'{time.time():.0f}')"
   ]
  },
  {
   "cell_type": "code",
   "execution_count": null,
   "metadata": {},
   "outputs": [],
   "source": []
  }
 ],
 "metadata": {
  "kernelspec": {
   "display_name": "Python 3.6.8 64-bit ('dlearn': conda)",
   "language": "python",
   "name": "python36864bitdlearnconda54b2ea4882264d059af3c47949da46dc"
  },
  "language_info": {
   "codemirror_mode": {
    "name": "ipython",
    "version": 3
   },
   "file_extension": ".py",
   "mimetype": "text/x-python",
   "name": "python",
   "nbconvert_exporter": "python",
   "pygments_lexer": "ipython3",
   "version": "3.6.8"
  }
 },
 "nbformat": 4,
 "nbformat_minor": 4
}
