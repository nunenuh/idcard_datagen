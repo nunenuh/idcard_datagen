{
 "cells": [
  {
   "cell_type": "code",
   "execution_count": 9,
   "metadata": {},
   "outputs": [
    {
     "name": "stdout",
     "output_type": "stream",
     "text": [
      "The autoreload extension is already loaded. To reload it, use:\n",
      "  %reload_ext autoreload\n"
     ]
    }
   ],
   "source": [
    "%load_ext autoreload\n",
    "%autoreload 2"
   ]
  },
  {
   "cell_type": "code",
   "execution_count": 10,
   "metadata": {},
   "outputs": [],
   "source": [
    "import arrow\n",
    "import random\n",
    "import pandas as pd\n",
    "import numpy as np\n",
    "from datetime import datetime\n",
    "from datagen.csvgen.base import randgen, randrec\n",
    "from datagen.csvgen.ner import converter\n",
    "from tqdm import tqdm"
   ]
  },
  {
   "cell_type": "code",
   "execution_count": 11,
   "metadata": {},
   "outputs": [],
   "source": [
    "ktp_data = pd.read_csv('data/ktp_data_11000_record.csv')"
   ]
  },
  {
   "cell_type": "code",
   "execution_count": 13,
   "metadata": {},
   "outputs": [
    {
     "data": {
      "text/html": [
       "<div>\n",
       "<style scoped>\n",
       "    .dataframe tbody tr th:only-of-type {\n",
       "        vertical-align: middle;\n",
       "    }\n",
       "\n",
       "    .dataframe tbody tr th {\n",
       "        vertical-align: top;\n",
       "    }\n",
       "\n",
       "    .dataframe thead th {\n",
       "        text-align: right;\n",
       "    }\n",
       "</style>\n",
       "<table border=\"1\" class=\"dataframe\">\n",
       "  <thead>\n",
       "    <tr style=\"text-align: right;\">\n",
       "      <th></th>\n",
       "      <th>provinsi</th>\n",
       "      <th>kabupaten</th>\n",
       "      <th>nik</th>\n",
       "      <th>nama</th>\n",
       "      <th>ttl</th>\n",
       "      <th>gender</th>\n",
       "      <th>goldar</th>\n",
       "      <th>alamat</th>\n",
       "      <th>rtrw</th>\n",
       "      <th>kelurahan</th>\n",
       "      <th>kecamatan</th>\n",
       "      <th>agama</th>\n",
       "      <th>perkawinan</th>\n",
       "      <th>pekerjaan</th>\n",
       "      <th>kewarganegaraan</th>\n",
       "      <th>berlaku</th>\n",
       "      <th>sign_place</th>\n",
       "      <th>sign_date</th>\n",
       "    </tr>\n",
       "  </thead>\n",
       "  <tbody>\n",
       "    <tr>\n",
       "      <th>0</th>\n",
       "      <td>PROVINSI SUMATERA UTARA</td>\n",
       "      <td>KABUPATEN PADANG LAWAS</td>\n",
       "      <td>1221010406990305</td>\n",
       "      <td>HARIANTO PECHT</td>\n",
       "      <td>PADANG LAWAS, 04-06-1999</td>\n",
       "      <td>PEREMPUAN</td>\n",
       "      <td>O</td>\n",
       "      <td>JL WARU 5-B</td>\n",
       "      <td>014/011</td>\n",
       "      <td>HUTABARU SOSOPAN</td>\n",
       "      <td>SOSOPAN</td>\n",
       "      <td>ISLAM</td>\n",
       "      <td>CERAI MATI</td>\n",
       "      <td>PETANI/PEKEBUN</td>\n",
       "      <td>WNI</td>\n",
       "      <td>SEUMUR HIDUP</td>\n",
       "      <td>PADANG LAWAS</td>\n",
       "      <td>01-12-2015</td>\n",
       "    </tr>\n",
       "    <tr>\n",
       "      <th>1</th>\n",
       "      <td>PROVINSI RIAU</td>\n",
       "      <td>KABUPATEN KAMPAR</td>\n",
       "      <td>1401120212890307</td>\n",
       "      <td>LUKMAN HERRY LATIP</td>\n",
       "      <td>TAPUNG HULU, 02-12-1989</td>\n",
       "      <td>PEREMPUAN</td>\n",
       "      <td>B</td>\n",
       "      <td>JL PD JAYA II 21</td>\n",
       "      <td>020/011</td>\n",
       "      <td>SENAMA NENEK</td>\n",
       "      <td>TAPUNG HULU</td>\n",
       "      <td>ISLAM</td>\n",
       "      <td>CERAI MATI</td>\n",
       "      <td>MENGURUS RUMAH TANGGA</td>\n",
       "      <td>WNI</td>\n",
       "      <td>SEUMUR HIDUP</td>\n",
       "      <td>KAMPAR</td>\n",
       "      <td>02-09-2020</td>\n",
       "    </tr>\n",
       "    <tr>\n",
       "      <th>2</th>\n",
       "      <td>PROVINSI SUMATERA UTARA</td>\n",
       "      <td>KABUPATEN NIAS UTARA</td>\n",
       "      <td>1224072602631541</td>\n",
       "      <td>PURNA HARJANI</td>\n",
       "      <td>ALASA, 26-02-1963</td>\n",
       "      <td>LAKI-LAKI</td>\n",
       "      <td>O</td>\n",
       "      <td>JL KETANG KETANG 3</td>\n",
       "      <td>015/001</td>\n",
       "      <td>ONONAMOLO TUMULA</td>\n",
       "      <td>ALASA</td>\n",
       "      <td>ISLAM</td>\n",
       "      <td>CERAI HIDUP</td>\n",
       "      <td>PETANI/PEKEBUN</td>\n",
       "      <td>WNI</td>\n",
       "      <td>SEUMUR HIDUP</td>\n",
       "      <td>NIAS UTARA</td>\n",
       "      <td>14-03-2014</td>\n",
       "    </tr>\n",
       "    <tr>\n",
       "      <th>3</th>\n",
       "      <td>PROVINSI NUSA TENGGARA TIMUR</td>\n",
       "      <td>KABUPATEN BELU</td>\n",
       "      <td>5304040107846238</td>\n",
       "      <td>CHRISTOPHER JAMES GARRARD</td>\n",
       "      <td>BELU, 01-07-1984</td>\n",
       "      <td>PEREMPUAN</td>\n",
       "      <td>B</td>\n",
       "      <td>KUNINGAN TIMUR</td>\n",
       "      <td>004/010</td>\n",
       "      <td>RINBESIHAT</td>\n",
       "      <td>TASIFETO BARAT</td>\n",
       "      <td>ISLAM</td>\n",
       "      <td>KAWIN</td>\n",
       "      <td>PETANI/PEKEBUN</td>\n",
       "      <td>WNI</td>\n",
       "      <td>SEUMUR HIDUP</td>\n",
       "      <td>BELU</td>\n",
       "      <td>18-02-2019</td>\n",
       "    </tr>\n",
       "    <tr>\n",
       "      <th>4</th>\n",
       "      <td>PROVINSI JAWA BARAT</td>\n",
       "      <td>KABUPATEN CIREBON</td>\n",
       "      <td>3209392101625630</td>\n",
       "      <td>TJIA WIWIN ANGGONO</td>\n",
       "      <td>SURANENGGALA, 21-01-1962</td>\n",
       "      <td>PEREMPUAN</td>\n",
       "      <td>O</td>\n",
       "      <td>JL.JATIWARINGIN</td>\n",
       "      <td>028/023</td>\n",
       "      <td>SURANENGGALA KIDUL</td>\n",
       "      <td>SURANENGGALA</td>\n",
       "      <td>ISLAM</td>\n",
       "      <td>KAWIN</td>\n",
       "      <td>MENGURUS RUMAH TANGGA</td>\n",
       "      <td>WNI</td>\n",
       "      <td>SEUMUR HIDUP</td>\n",
       "      <td>CIREBON</td>\n",
       "      <td>13-09-2012</td>\n",
       "    </tr>\n",
       "  </tbody>\n",
       "</table>\n",
       "</div>"
      ],
      "text/plain": [
       "                       provinsi               kabupaten               nik  \\\n",
       "0       PROVINSI SUMATERA UTARA  KABUPATEN PADANG LAWAS  1221010406990305   \n",
       "1                 PROVINSI RIAU        KABUPATEN KAMPAR  1401120212890307   \n",
       "2       PROVINSI SUMATERA UTARA    KABUPATEN NIAS UTARA  1224072602631541   \n",
       "3  PROVINSI NUSA TENGGARA TIMUR          KABUPATEN BELU  5304040107846238   \n",
       "4           PROVINSI JAWA BARAT       KABUPATEN CIREBON  3209392101625630   \n",
       "\n",
       "                        nama                       ttl     gender goldar  \\\n",
       "0             HARIANTO PECHT  PADANG LAWAS, 04-06-1999  PEREMPUAN      O   \n",
       "1         LUKMAN HERRY LATIP   TAPUNG HULU, 02-12-1989  PEREMPUAN      B   \n",
       "2              PURNA HARJANI         ALASA, 26-02-1963  LAKI-LAKI      O   \n",
       "3  CHRISTOPHER JAMES GARRARD          BELU, 01-07-1984  PEREMPUAN      B   \n",
       "4         TJIA WIWIN ANGGONO  SURANENGGALA, 21-01-1962  PEREMPUAN      O   \n",
       "\n",
       "               alamat     rtrw           kelurahan       kecamatan  agama  \\\n",
       "0         JL WARU 5-B  014/011    HUTABARU SOSOPAN         SOSOPAN  ISLAM   \n",
       "1    JL PD JAYA II 21  020/011        SENAMA NENEK     TAPUNG HULU  ISLAM   \n",
       "2  JL KETANG KETANG 3  015/001    ONONAMOLO TUMULA           ALASA  ISLAM   \n",
       "3      KUNINGAN TIMUR  004/010          RINBESIHAT  TASIFETO BARAT  ISLAM   \n",
       "4     JL.JATIWARINGIN  028/023  SURANENGGALA KIDUL    SURANENGGALA  ISLAM   \n",
       "\n",
       "    perkawinan              pekerjaan kewarganegaraan       berlaku  \\\n",
       "0   CERAI MATI         PETANI/PEKEBUN             WNI  SEUMUR HIDUP   \n",
       "1   CERAI MATI  MENGURUS RUMAH TANGGA             WNI  SEUMUR HIDUP   \n",
       "2  CERAI HIDUP         PETANI/PEKEBUN             WNI  SEUMUR HIDUP   \n",
       "3        KAWIN         PETANI/PEKEBUN             WNI  SEUMUR HIDUP   \n",
       "4        KAWIN  MENGURUS RUMAH TANGGA             WNI  SEUMUR HIDUP   \n",
       "\n",
       "     sign_place   sign_date  \n",
       "0  PADANG LAWAS  01-12-2015  \n",
       "1        KAMPAR  02-09-2020  \n",
       "2    NIAS UTARA  14-03-2014  \n",
       "3          BELU  18-02-2019  \n",
       "4       CIREBON  13-09-2012  "
      ]
     },
     "execution_count": 13,
     "metadata": {},
     "output_type": "execute_result"
    }
   ],
   "source": [
    "ktp_data.head()"
   ]
  },
  {
   "cell_type": "code",
   "execution_count": 12,
   "metadata": {},
   "outputs": [
    {
     "name": "stderr",
     "output_type": "stream",
     "text": [
      "100%|██████████| 11000/11000 [00:09<00:00, 1197.10it/s]\n"
     ]
    }
   ],
   "source": [
    "ktp_ner = converter.to_ner_dataframe(ktp_data)"
   ]
  },
  {
   "cell_type": "code",
   "execution_count": 14,
   "metadata": {},
   "outputs": [
    {
     "data": {
      "text/html": [
       "<div>\n",
       "<style scoped>\n",
       "    .dataframe tbody tr th:only-of-type {\n",
       "        vertical-align: middle;\n",
       "    }\n",
       "\n",
       "    .dataframe tbody tr th {\n",
       "        vertical-align: top;\n",
       "    }\n",
       "\n",
       "    .dataframe thead th {\n",
       "        text-align: right;\n",
       "    }\n",
       "</style>\n",
       "<table border=\"1\" class=\"dataframe\">\n",
       "  <thead>\n",
       "    <tr style=\"text-align: right;\">\n",
       "      <th></th>\n",
       "      <th>sentence_idx</th>\n",
       "      <th>word</th>\n",
       "      <th>tag</th>\n",
       "    </tr>\n",
       "  </thead>\n",
       "  <tbody>\n",
       "    <tr>\n",
       "      <th>0</th>\n",
       "      <td>0</td>\n",
       "      <td>PROVINSI</td>\n",
       "      <td>U-FLD_PROV</td>\n",
       "    </tr>\n",
       "    <tr>\n",
       "      <th>1</th>\n",
       "      <td>0</td>\n",
       "      <td>SUMATERA</td>\n",
       "      <td>B-VAL_PROV</td>\n",
       "    </tr>\n",
       "    <tr>\n",
       "      <th>2</th>\n",
       "      <td>0</td>\n",
       "      <td>UTARA</td>\n",
       "      <td>L-VAL_PROV</td>\n",
       "    </tr>\n",
       "    <tr>\n",
       "      <th>3</th>\n",
       "      <td>0</td>\n",
       "      <td>KABUPATEN</td>\n",
       "      <td>U-FLD_KAB</td>\n",
       "    </tr>\n",
       "    <tr>\n",
       "      <th>4</th>\n",
       "      <td>0</td>\n",
       "      <td>PADANG</td>\n",
       "      <td>B-VAL_KAB</td>\n",
       "    </tr>\n",
       "  </tbody>\n",
       "</table>\n",
       "</div>"
      ],
      "text/plain": [
       "   sentence_idx       word         tag\n",
       "0             0   PROVINSI  U-FLD_PROV\n",
       "1             0   SUMATERA  B-VAL_PROV\n",
       "2             0      UTARA  L-VAL_PROV\n",
       "3             0  KABUPATEN   U-FLD_KAB\n",
       "4             0     PADANG   B-VAL_KAB"
      ]
     },
     "execution_count": 14,
     "metadata": {},
     "output_type": "execute_result"
    }
   ],
   "source": [
    "ktp_ner.head()"
   ]
  },
  {
   "cell_type": "code",
   "execution_count": 15,
   "metadata": {},
   "outputs": [],
   "source": [
    "# ktp_ner.to_csv('ktp_ner_dataset.csv', index=False, index_label=False)"
   ]
  },
  {
   "cell_type": "code",
   "execution_count": 16,
   "metadata": {},
   "outputs": [
    {
     "name": "stderr",
     "output_type": "stream",
     "text": [
      "100%|██████████| 11000/11000 [00:19<00:00, 555.50it/s]\n",
      "100%|██████████| 8250/8250 [00:29<00:00, 280.39it/s]\n",
      "100%|██████████| 1788/1788 [00:01<00:00, 1226.09it/s]\n",
      "100%|██████████| 962/962 [00:00<00:00, 1337.87it/s]\n"
     ]
    }
   ],
   "source": [
    "trainframe, validframe, testframe = converter.split_ner_dataframe(ktp_ner)\n",
    "trainframe = converter.reset_sentence_index(trainframe)\n",
    "validframe = converter.reset_sentence_index(validframe)\n",
    "testframe = converter.reset_sentence_index(testframe)"
   ]
  },
  {
   "cell_type": "code",
   "execution_count": null,
   "metadata": {},
   "outputs": [],
   "source": [
    "trainframe.to_csv('ktp_ner_train_dataset.csv', index=False, index_label=False)\n",
    "validframe.to_csv('ktp_ner_valid_dataset.csv', index=False, index_label=False)\n",
    "testframe.to_csv('ktp_ner_test_dataset.csv', index=False, index_label=False)"
   ]
  }
 ],
 "metadata": {
  "kernelspec": {
   "display_name": "Python 3.6.8 64-bit ('dlearn': conda)",
   "language": "python",
   "name": "python36864bitdlearnconda54b2ea4882264d059af3c47949da46dc"
  },
  "language_info": {
   "codemirror_mode": {
    "name": "ipython",
    "version": 3
   },
   "file_extension": ".py",
   "mimetype": "text/x-python",
   "name": "python",
   "nbconvert_exporter": "python",
   "pygments_lexer": "ipython3",
   "version": "3.6.8"
  }
 },
 "nbformat": 4,
 "nbformat_minor": 4
}
