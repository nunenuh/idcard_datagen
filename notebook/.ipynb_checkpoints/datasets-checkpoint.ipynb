{
 "cells": [
  {
   "cell_type": "code",
   "execution_count": 107,
   "metadata": {
    "collapsed": true
   },
   "outputs": [
    {
     "name": "stdout",
     "output_type": "stream",
     "text": [
      "The autoreload extension is already loaded. To reload it, use:\n",
      "  %reload_ext autoreload\n"
     ]
    }
   ],
   "source": [
    "%load_ext autoreload\n",
    "%autoreload 2"
   ]
  },
  {
   "cell_type": "code",
   "execution_count": 108,
   "outputs": [],
   "source": [
    "import json\n",
    "import pathlib\n",
    "import random\n",
    "\n",
    "import PIL\n",
    "from torch.utils.data import dataset\n",
    "import torch\n",
    "#"
   ],
   "metadata": {
    "collapsed": false,
    "pycharm": {
     "name": "#%%\n"
    }
   }
  },
  {
   "cell_type": "code",
   "execution_count": 1,
   "outputs": [
    {
     "ename": "NameError",
     "evalue": "name 'dataset' is not defined",
     "output_type": "error",
     "traceback": [
      "\u001B[0;31m---------------------------------------------------------------------------\u001B[0m",
      "\u001B[0;31mNameError\u001B[0m                                 Traceback (most recent call last)",
      "\u001B[0;32m<ipython-input-1-4b0c761ff41d>\u001B[0m in \u001B[0;36m<module>\u001B[0;34m\u001B[0m\n\u001B[0;32m----> 1\u001B[0;31m \u001B[0;32mclass\u001B[0m \u001B[0mIDCardDataset\u001B[0m\u001B[0;34m(\u001B[0m\u001B[0mdataset\u001B[0m\u001B[0;34m.\u001B[0m\u001B[0mDataset\u001B[0m\u001B[0;34m)\u001B[0m\u001B[0;34m:\u001B[0m\u001B[0;34m\u001B[0m\u001B[0;34m\u001B[0m\u001B[0m\n\u001B[0m\u001B[1;32m      2\u001B[0m     def __init__(self, root,  train=True, split=0.2,\n\u001B[1;32m      3\u001B[0m                  transform=None, target_transform=None):\n\u001B[1;32m      4\u001B[0m         \u001B[0mself\u001B[0m\u001B[0;34m.\u001B[0m\u001B[0mroot\u001B[0m\u001B[0;34m:\u001B[0m \u001B[0mstr\u001B[0m \u001B[0;34m=\u001B[0m \u001B[0mpathlib\u001B[0m\u001B[0;34m.\u001B[0m\u001B[0mPath\u001B[0m\u001B[0;34m(\u001B[0m\u001B[0mroot\u001B[0m\u001B[0;34m)\u001B[0m\u001B[0;34m\u001B[0m\u001B[0;34m\u001B[0m\u001B[0m\n\u001B[1;32m      5\u001B[0m         \u001B[0mself\u001B[0m\u001B[0;34m.\u001B[0m\u001B[0mtrain\u001B[0m\u001B[0;34m:\u001B[0m \u001B[0mbool\u001B[0m \u001B[0;34m=\u001B[0m \u001B[0mtrain\u001B[0m\u001B[0;34m\u001B[0m\u001B[0;34m\u001B[0m\u001B[0m\n",
      "\u001B[0;31mNameError\u001B[0m: name 'dataset' is not defined"
     ]
    }
   ],
   "source": [
    "class IDCardDataset(dataset.Dataset):\n",
    "    def __init__(self, root,  train=True, split=0.2,\n",
    "                 transform=None, target_transform=None):\n",
    "        self.root: str = pathlib.Path(root)\n",
    "        self.train: bool = train\n",
    "        self.split: float = split\n",
    "        self.transform = transform\n",
    "        self.target_transform = target_transform\n",
    "\n",
    "        self.allfiles: list = list(self.root.glob(\"*.json\"))\n",
    "        self.split_data()\n",
    "\n",
    "    def load_data(self):\n",
    "        self.files = list(pathlib.Path(self.root).glob(\"*.json\"))\n",
    "        # self.files_idx = [idx for idx in range(len(self.files))]\n",
    "\n",
    "\n",
    "    def split_data(self):\n",
    "        random.seed(1261)\n",
    "        tlen = len(self.allfiles)\n",
    "        vk = int(self.split * tlen)\n",
    "\n",
    "        if self.train:\n",
    "            tk = tlen - vk\n",
    "            self.files = random.sample(self.allfiles, tk)\n",
    "        else:\n",
    "            self.files = random.sample(self.allfiles, vk)\n",
    "\n",
    "    def _file_to_dict(self, fpath:str):\n",
    "        with open(str(fpath), 'r') as jfile:\n",
    "            data = json.load(jfile)\n",
    "        return data\n",
    "\n",
    "\n",
    "    def __len__(self):\n",
    "        return len(self.files)\n",
    "\n",
    "    def _load_image(self, fpath: str):\n",
    "        return PIL.Image.open(fpath)\n",
    "\n",
    "    def _parse_data(self, data):\n",
    "        points, cnames, scnames, texts = [], [], [], []\n",
    "\n",
    "        h,w,d = data['image']['dim']\n",
    "        angle, scale, shear = data['angle'], data['scale_ratio'], data['shear_factor']\n",
    "        main_boxes: list = data['box']\n",
    "        main_boxes.insert(0, [w, h])\n",
    "        main_boxes = np.array(main_boxes).reshape(10).tolist()\n",
    "        main_boxes.insert(len(main_boxes), self.classnames.get('ktp_box'))\n",
    "        main_boxes.insert(len(main_boxes), self.subclassnames.get('other'))\n",
    "        main_boxes.insert(len(main_boxes), scale)\n",
    "        main_boxes.insert(len(main_boxes), angle)\n",
    "        main_boxes.insert(len(main_boxes), shear)\n",
    "        points.append(main_boxes)\n",
    "        texts.append(\"\")\n",
    "\n",
    "        for obj in data['objects']:\n",
    "            text = obj['text']\n",
    "            texts.append(text)\n",
    "\n",
    "            cname, scname = obj['classname'], obj['subclass']\n",
    "            cn = self.classnames.get(cname)\n",
    "            scn = self.subclassnames.get(scname)\n",
    "\n",
    "            point: list = obj['points']\n",
    "            point.insert(0, [w, h])\n",
    "            point = np.array(point).reshape(10).tolist()\n",
    "            point.insert(len(point), cn)\n",
    "            point.insert(len(point), scn)\n",
    "            point.insert(len(point), scale)\n",
    "            point.insert(len(point), angle)\n",
    "            point.insert(len(point), shear)\n",
    "\n",
    "            # points.insert(len(points), [text])\n",
    "            points.append(point)\n",
    "\n",
    "        return points, texts\n",
    "\n",
    "    def parse_column(self):\n",
    "        return [\n",
    "            'image_witdh', 'image_height',\n",
    "            'x1','y1','x2','y2','x3','y3','x4','y4',\n",
    "            'classname','subclassname',\n",
    "            'scale_ratio','rotation_angle','shear_factor'\n",
    "        ]\n",
    "\n",
    "    @property\n",
    "    def classnames(self) -> dict:\n",
    "        return {\n",
    "            'ktp_box': 0,\n",
    "            'provinsi': 1, 'kabkota': 2,\n",
    "            'nik': 3, 'nama': 4, 'ttl': 5,'gender': 6,\n",
    "            'goldar': 7, 'alamat': 8, 'rtrw': 9, 'keldesa': 10,\n",
    "            'kecamatan': 11, 'agama': 12, 'status': 13, 'pekerjaan': 14,\n",
    "            'warga': 15, 'berlaku': 16, 'sign_kabkota': 17, 'sign_tgl': 18,\n",
    "        }\n",
    "\n",
    "    @property\n",
    "    def subclassnames(self) -> dict:\n",
    "        return {'field': 0, 'value': 1, 'delimiter': 2, 'other': 3}\n",
    "\n",
    "    def __getitem__(self, idx):\n",
    "        fpath: pathlib.Path = self.files[idx]\n",
    "        data = self._file_to_dict(str(fpath))\n",
    "        img_path = fpath.parent.joinpath(data['image']['filename'])\n",
    "        image =  self._load_image(img_path)\n",
    "\n",
    "        msk_path = fpath.parent.joinpath(data['mask']['filename'])\n",
    "        mask = self._load_image(msk_path)\n",
    "\n",
    "        points, texts  = self._parse_data(data)\n",
    "\n",
    "        return image, mask, points, texts\n",
    "\n"
   ],
   "metadata": {
    "collapsed": false,
    "pycharm": {
     "name": "#%%\n"
    }
   }
  },
  {
   "cell_type": "code",
   "execution_count": 217,
   "outputs": [],
   "source": [
    "trainset = IDCardDataset(root='../../result/1597415334', train=True, split=0.2)\n",
    "image, mask, points0, texts = trainset[0]\n",
    "image, mask, points1, texts = trainset[1]"
   ],
   "metadata": {
    "collapsed": false,
    "pycharm": {
     "name": "#%%\n"
    }
   }
  },
  {
   "cell_type": "code",
   "execution_count": null,
   "outputs": [
    {
     "name": "stderr",
     "output_type": "stream",
     "text": [
      " 94%|█████████▍| 45970/48725 [18:15:30<32:00,  1.43it/s]         "
     ]
    }
   ],
   "source": [
    "from tqdm import tqdm\n",
    "points = []\n",
    "for tr in tqdm(trainset):\n",
    "    image, mask, pts, texts = tr\n",
    "    points = points + pts"
   ],
   "metadata": {
    "collapsed": false,
    "pycharm": {
     "name": "#%%\n",
     "is_executing": true
    }
   }
  },
  {
   "cell_type": "code",
   "execution_count": 215,
   "outputs": [
    {
     "data": {
      "text/plain": "     image_witdh  image_height      x1     y1      x2     y2      x3     y3  \\\n0         1920.0        1440.0    82.0  789.0  1125.0  406.0  1397.0  990.0   \n1         1920.0        1440.0   438.0  690.0   586.0  636.0   598.0  662.0   \n2         1920.0        1440.0   594.0  633.0   645.0  614.0   657.0  640.0   \n3         1920.0        1440.0   654.0  611.0   794.0  559.0   806.0  585.0   \n4         1920.0        1440.0   484.0  705.0   625.0  654.0   637.0  679.0   \n..           ...           ...     ...    ...     ...    ...     ...    ...   \n124       1920.0        1080.0   396.0  669.0   500.0  702.0   493.0  723.0   \n125       1920.0        1080.0   506.0  704.0   581.0  728.0   574.0  748.0   \n126       1920.0        1080.0   925.0  748.0  1016.0  777.0  1010.0  795.0   \n127       1920.0        1080.0  1021.0  779.0  1088.0  800.0  1082.0  818.0   \n128       1920.0        1080.0   944.0  788.0  1048.0  821.0  1042.0  839.0   \n\n         x4      y4  classname  subclassname  scale_ratio  rotation_angle  \\\n0     355.0  1375.0          0             3          0.8       22.512395   \n1     450.0   716.0          1             1          0.8       22.512395   \n2     606.0   659.0          1             1          0.8       22.512395   \n3     666.0   637.0          1             1          0.8       22.512395   \n4     496.0   731.0          2             1          0.8       22.512395   \n..      ...     ...        ...           ...          ...             ...   \n124   389.0   690.0         16             1          0.8      -18.270120   \n125   499.0   725.0         16             1          0.8      -18.270120   \n126   918.0   766.0         17             1          0.8      -18.270120   \n127  1015.0   797.0         17             1          0.8      -18.270120   \n128   938.0   806.0         18             1          0.8      -18.270120   \n\n     shear_factor  \n0        0.266071  \n1        0.266071  \n2        0.266071  \n3        0.266071  \n4        0.266071  \n..            ...  \n124     -0.338986  \n125     -0.338986  \n126     -0.338986  \n127     -0.338986  \n128     -0.338986  \n\n[129 rows x 15 columns]",
      "text/html": "<div>\n<style scoped>\n    .dataframe tbody tr th:only-of-type {\n        vertical-align: middle;\n    }\n\n    .dataframe tbody tr th {\n        vertical-align: top;\n    }\n\n    .dataframe thead th {\n        text-align: right;\n    }\n</style>\n<table border=\"1\" class=\"dataframe\">\n  <thead>\n    <tr style=\"text-align: right;\">\n      <th></th>\n      <th>image_witdh</th>\n      <th>image_height</th>\n      <th>x1</th>\n      <th>y1</th>\n      <th>x2</th>\n      <th>y2</th>\n      <th>x3</th>\n      <th>y3</th>\n      <th>x4</th>\n      <th>y4</th>\n      <th>classname</th>\n      <th>subclassname</th>\n      <th>scale_ratio</th>\n      <th>rotation_angle</th>\n      <th>shear_factor</th>\n    </tr>\n  </thead>\n  <tbody>\n    <tr>\n      <th>0</th>\n      <td>1920.0</td>\n      <td>1440.0</td>\n      <td>82.0</td>\n      <td>789.0</td>\n      <td>1125.0</td>\n      <td>406.0</td>\n      <td>1397.0</td>\n      <td>990.0</td>\n      <td>355.0</td>\n      <td>1375.0</td>\n      <td>0</td>\n      <td>3</td>\n      <td>0.8</td>\n      <td>22.512395</td>\n      <td>0.266071</td>\n    </tr>\n    <tr>\n      <th>1</th>\n      <td>1920.0</td>\n      <td>1440.0</td>\n      <td>438.0</td>\n      <td>690.0</td>\n      <td>586.0</td>\n      <td>636.0</td>\n      <td>598.0</td>\n      <td>662.0</td>\n      <td>450.0</td>\n      <td>716.0</td>\n      <td>1</td>\n      <td>1</td>\n      <td>0.8</td>\n      <td>22.512395</td>\n      <td>0.266071</td>\n    </tr>\n    <tr>\n      <th>2</th>\n      <td>1920.0</td>\n      <td>1440.0</td>\n      <td>594.0</td>\n      <td>633.0</td>\n      <td>645.0</td>\n      <td>614.0</td>\n      <td>657.0</td>\n      <td>640.0</td>\n      <td>606.0</td>\n      <td>659.0</td>\n      <td>1</td>\n      <td>1</td>\n      <td>0.8</td>\n      <td>22.512395</td>\n      <td>0.266071</td>\n    </tr>\n    <tr>\n      <th>3</th>\n      <td>1920.0</td>\n      <td>1440.0</td>\n      <td>654.0</td>\n      <td>611.0</td>\n      <td>794.0</td>\n      <td>559.0</td>\n      <td>806.0</td>\n      <td>585.0</td>\n      <td>666.0</td>\n      <td>637.0</td>\n      <td>1</td>\n      <td>1</td>\n      <td>0.8</td>\n      <td>22.512395</td>\n      <td>0.266071</td>\n    </tr>\n    <tr>\n      <th>4</th>\n      <td>1920.0</td>\n      <td>1440.0</td>\n      <td>484.0</td>\n      <td>705.0</td>\n      <td>625.0</td>\n      <td>654.0</td>\n      <td>637.0</td>\n      <td>679.0</td>\n      <td>496.0</td>\n      <td>731.0</td>\n      <td>2</td>\n      <td>1</td>\n      <td>0.8</td>\n      <td>22.512395</td>\n      <td>0.266071</td>\n    </tr>\n    <tr>\n      <th>5</th>\n      <td>1920.0</td>\n      <td>1440.0</td>\n      <td>633.0</td>\n      <td>651.0</td>\n      <td>774.0</td>\n      <td>599.0</td>\n      <td>786.0</td>\n      <td>624.0</td>\n      <td>645.0</td>\n      <td>676.0</td>\n      <td>2</td>\n      <td>1</td>\n      <td>0.8</td>\n      <td>22.512395</td>\n      <td>0.266071</td>\n    </tr>\n    <tr>\n      <th>6</th>\n      <td>1920.0</td>\n      <td>1440.0</td>\n      <td>156.0</td>\n      <td>870.0</td>\n      <td>233.0</td>\n      <td>841.0</td>\n      <td>249.0</td>\n      <td>875.0</td>\n      <td>171.0</td>\n      <td>904.0</td>\n      <td>3</td>\n      <td>0</td>\n      <td>0.8</td>\n      <td>22.512395</td>\n      <td>0.266071</td>\n    </tr>\n    <tr>\n      <th>7</th>\n      <td>1920.0</td>\n      <td>1440.0</td>\n      <td>352.0</td>\n      <td>797.0</td>\n      <td>377.0</td>\n      <td>788.0</td>\n      <td>393.0</td>\n      <td>822.0</td>\n      <td>367.0</td>\n      <td>831.0</td>\n      <td>3</td>\n      <td>2</td>\n      <td>0.8</td>\n      <td>22.512395</td>\n      <td>0.266071</td>\n    </tr>\n    <tr>\n      <th>8</th>\n      <td>1920.0</td>\n      <td>1440.0</td>\n      <td>393.0</td>\n      <td>782.0</td>\n      <td>780.0</td>\n      <td>640.0</td>\n      <td>795.0</td>\n      <td>674.0</td>\n      <td>409.0</td>\n      <td>816.0</td>\n      <td>3</td>\n      <td>1</td>\n      <td>0.8</td>\n      <td>22.512395</td>\n      <td>0.266071</td>\n    </tr>\n    <tr>\n      <th>9</th>\n      <td>1920.0</td>\n      <td>1440.0</td>\n      <td>181.0</td>\n      <td>925.0</td>\n      <td>245.0</td>\n      <td>901.0</td>\n      <td>254.0</td>\n      <td>920.0</td>\n      <td>190.0</td>\n      <td>944.0</td>\n      <td>4</td>\n      <td>0</td>\n      <td>0.8</td>\n      <td>22.512395</td>\n      <td>0.266071</td>\n    </tr>\n    <tr>\n      <th>10</th>\n      <td>1920.0</td>\n      <td>1440.0</td>\n      <td>418.0</td>\n      <td>837.0</td>\n      <td>425.0</td>\n      <td>835.0</td>\n      <td>434.0</td>\n      <td>854.0</td>\n      <td>427.0</td>\n      <td>857.0</td>\n      <td>4</td>\n      <td>2</td>\n      <td>0.8</td>\n      <td>22.512395</td>\n      <td>0.266071</td>\n    </tr>\n    <tr>\n      <th>11</th>\n      <td>1920.0</td>\n      <td>1440.0</td>\n      <td>434.0</td>\n      <td>832.0</td>\n      <td>509.0</td>\n      <td>804.0</td>\n      <td>518.0</td>\n      <td>823.0</td>\n      <td>443.0</td>\n      <td>851.0</td>\n      <td>4</td>\n      <td>1</td>\n      <td>0.8</td>\n      <td>22.512395</td>\n      <td>0.266071</td>\n    </tr>\n    <tr>\n      <th>12</th>\n      <td>1920.0</td>\n      <td>1440.0</td>\n      <td>515.0</td>\n      <td>802.0</td>\n      <td>664.0</td>\n      <td>747.0</td>\n      <td>673.0</td>\n      <td>766.0</td>\n      <td>524.0</td>\n      <td>821.0</td>\n      <td>4</td>\n      <td>1</td>\n      <td>0.8</td>\n      <td>22.512395</td>\n      <td>0.266071</td>\n    </tr>\n    <tr>\n      <th>13</th>\n      <td>1920.0</td>\n      <td>1440.0</td>\n      <td>194.0</td>\n      <td>952.0</td>\n      <td>314.0</td>\n      <td>908.0</td>\n      <td>325.0</td>\n      <td>932.0</td>\n      <td>205.0</td>\n      <td>976.0</td>\n      <td>5</td>\n      <td>0</td>\n      <td>0.8</td>\n      <td>22.512395</td>\n      <td>0.266071</td>\n    </tr>\n    <tr>\n      <th>14</th>\n      <td>1920.0</td>\n      <td>1440.0</td>\n      <td>320.0</td>\n      <td>906.0</td>\n      <td>374.0</td>\n      <td>886.0</td>\n      <td>382.0</td>\n      <td>905.0</td>\n      <td>329.0</td>\n      <td>925.0</td>\n      <td>5</td>\n      <td>0</td>\n      <td>0.8</td>\n      <td>22.512395</td>\n      <td>0.266071</td>\n    </tr>\n    <tr>\n      <th>15</th>\n      <td>1920.0</td>\n      <td>1440.0</td>\n      <td>431.0</td>\n      <td>865.0</td>\n      <td>437.0</td>\n      <td>863.0</td>\n      <td>446.0</td>\n      <td>882.0</td>\n      <td>440.0</td>\n      <td>884.0</td>\n      <td>5</td>\n      <td>2</td>\n      <td>0.8</td>\n      <td>22.512395</td>\n      <td>0.266071</td>\n    </tr>\n    <tr>\n      <th>16</th>\n      <td>1920.0</td>\n      <td>1440.0</td>\n      <td>447.0</td>\n      <td>859.0</td>\n      <td>539.0</td>\n      <td>825.0</td>\n      <td>549.0</td>\n      <td>847.0</td>\n      <td>457.0</td>\n      <td>881.0</td>\n      <td>5</td>\n      <td>1</td>\n      <td>0.8</td>\n      <td>22.512395</td>\n      <td>0.266071</td>\n    </tr>\n    <tr>\n      <th>17</th>\n      <td>1920.0</td>\n      <td>1440.0</td>\n      <td>545.0</td>\n      <td>823.0</td>\n      <td>668.0</td>\n      <td>777.0</td>\n      <td>677.0</td>\n      <td>797.0</td>\n      <td>554.0</td>\n      <td>842.0</td>\n      <td>5</td>\n      <td>1</td>\n      <td>0.8</td>\n      <td>22.512395</td>\n      <td>0.266071</td>\n    </tr>\n    <tr>\n      <th>18</th>\n      <td>1920.0</td>\n      <td>1440.0</td>\n      <td>207.0</td>\n      <td>980.0</td>\n      <td>264.0</td>\n      <td>959.0</td>\n      <td>273.0</td>\n      <td>978.0</td>\n      <td>216.0</td>\n      <td>999.0</td>\n      <td>6</td>\n      <td>0</td>\n      <td>0.8</td>\n      <td>22.512395</td>\n      <td>0.266071</td>\n    </tr>\n    <tr>\n      <th>19</th>\n      <td>1920.0</td>\n      <td>1440.0</td>\n      <td>270.0</td>\n      <td>957.0</td>\n      <td>355.0</td>\n      <td>925.0</td>\n      <td>364.0</td>\n      <td>944.0</td>\n      <td>279.0</td>\n      <td>976.0</td>\n      <td>6</td>\n      <td>0</td>\n      <td>0.8</td>\n      <td>22.512395</td>\n      <td>0.266071</td>\n    </tr>\n    <tr>\n      <th>20</th>\n      <td>1920.0</td>\n      <td>1440.0</td>\n      <td>444.0</td>\n      <td>892.0</td>\n      <td>450.0</td>\n      <td>890.0</td>\n      <td>459.0</td>\n      <td>909.0</td>\n      <td>453.0</td>\n      <td>912.0</td>\n      <td>6</td>\n      <td>2</td>\n      <td>0.8</td>\n      <td>22.512395</td>\n      <td>0.266071</td>\n    </tr>\n    <tr>\n      <th>21</th>\n      <td>1920.0</td>\n      <td>1440.0</td>\n      <td>460.0</td>\n      <td>887.0</td>\n      <td>609.0</td>\n      <td>832.0</td>\n      <td>618.0</td>\n      <td>851.0</td>\n      <td>469.0</td>\n      <td>906.0</td>\n      <td>6</td>\n      <td>1</td>\n      <td>0.8</td>\n      <td>22.512395</td>\n      <td>0.266071</td>\n    </tr>\n    <tr>\n      <th>22</th>\n      <td>1920.0</td>\n      <td>1440.0</td>\n      <td>712.0</td>\n      <td>793.0</td>\n      <td>756.0</td>\n      <td>778.0</td>\n      <td>765.0</td>\n      <td>797.0</td>\n      <td>721.0</td>\n      <td>813.0</td>\n      <td>7</td>\n      <td>0</td>\n      <td>0.8</td>\n      <td>22.512395</td>\n      <td>0.266071</td>\n    </tr>\n    <tr>\n      <th>23</th>\n      <td>1920.0</td>\n      <td>1440.0</td>\n      <td>762.0</td>\n      <td>775.0</td>\n      <td>828.0</td>\n      <td>751.0</td>\n      <td>837.0</td>\n      <td>770.0</td>\n      <td>771.0</td>\n      <td>795.0</td>\n      <td>7</td>\n      <td>0</td>\n      <td>0.8</td>\n      <td>22.512395</td>\n      <td>0.266071</td>\n    </tr>\n    <tr>\n      <th>24</th>\n      <td>1920.0</td>\n      <td>1440.0</td>\n      <td>831.0</td>\n      <td>750.0</td>\n      <td>837.0</td>\n      <td>748.0</td>\n      <td>846.0</td>\n      <td>767.0</td>\n      <td>840.0</td>\n      <td>769.0</td>\n      <td>7</td>\n      <td>2</td>\n      <td>0.8</td>\n      <td>22.512395</td>\n      <td>0.266071</td>\n    </tr>\n    <tr>\n      <th>25</th>\n      <td>1920.0</td>\n      <td>1440.0</td>\n      <td>836.0</td>\n      <td>748.0</td>\n      <td>868.0</td>\n      <td>736.0</td>\n      <td>877.0</td>\n      <td>755.0</td>\n      <td>845.0</td>\n      <td>767.0</td>\n      <td>7</td>\n      <td>1</td>\n      <td>0.8</td>\n      <td>22.512395</td>\n      <td>0.266071</td>\n    </tr>\n    <tr>\n      <th>26</th>\n      <td>1920.0</td>\n      <td>1440.0</td>\n      <td>220.0</td>\n      <td>1007.0</td>\n      <td>295.0</td>\n      <td>980.0</td>\n      <td>304.0</td>\n      <td>999.0</td>\n      <td>229.0</td>\n      <td>1027.0</td>\n      <td>8</td>\n      <td>0</td>\n      <td>0.8</td>\n      <td>22.512395</td>\n      <td>0.266071</td>\n    </tr>\n    <tr>\n      <th>27</th>\n      <td>1920.0</td>\n      <td>1440.0</td>\n      <td>457.0</td>\n      <td>920.0</td>\n      <td>463.0</td>\n      <td>918.0</td>\n      <td>472.0</td>\n      <td>937.0</td>\n      <td>466.0</td>\n      <td>939.0</td>\n      <td>8</td>\n      <td>2</td>\n      <td>0.8</td>\n      <td>22.512395</td>\n      <td>0.266071</td>\n    </tr>\n    <tr>\n      <th>28</th>\n      <td>1920.0</td>\n      <td>1440.0</td>\n      <td>472.0</td>\n      <td>914.0</td>\n      <td>598.0</td>\n      <td>868.0</td>\n      <td>607.0</td>\n      <td>887.0</td>\n      <td>481.0</td>\n      <td>933.0</td>\n      <td>8</td>\n      <td>1</td>\n      <td>0.8</td>\n      <td>22.512395</td>\n      <td>0.266071</td>\n    </tr>\n    <tr>\n      <th>29</th>\n      <td>1920.0</td>\n      <td>1440.0</td>\n      <td>604.0</td>\n      <td>865.0</td>\n      <td>680.0</td>\n      <td>838.0</td>\n      <td>689.0</td>\n      <td>857.0</td>\n      <td>613.0</td>\n      <td>885.0</td>\n      <td>8</td>\n      <td>1</td>\n      <td>0.8</td>\n      <td>22.512395</td>\n      <td>0.266071</td>\n    </tr>\n    <tr>\n      <th>...</th>\n      <td>...</td>\n      <td>...</td>\n      <td>...</td>\n      <td>...</td>\n      <td>...</td>\n      <td>...</td>\n      <td>...</td>\n      <td>...</td>\n      <td>...</td>\n      <td>...</td>\n      <td>...</td>\n      <td>...</td>\n      <td>...</td>\n      <td>...</td>\n      <td>...</td>\n    </tr>\n    <tr>\n      <th>99</th>\n      <td>1920.0</td>\n      <td>1080.0</td>\n      <td>468.0</td>\n      <td>459.0</td>\n      <td>555.0</td>\n      <td>487.0</td>\n      <td>548.0</td>\n      <td>508.0</td>\n      <td>461.0</td>\n      <td>480.0</td>\n      <td>9</td>\n      <td>1</td>\n      <td>0.8</td>\n      <td>-18.270120</td>\n      <td>-0.338986</td>\n    </tr>\n    <tr>\n      <th>100</th>\n      <td>1920.0</td>\n      <td>1080.0</td>\n      <td>246.0</td>\n      <td>422.0</td>\n      <td>343.0</td>\n      <td>453.0</td>\n      <td>336.0</td>\n      <td>474.0</td>\n      <td>238.0</td>\n      <td>443.0</td>\n      <td>10</td>\n      <td>0</td>\n      <td>0.8</td>\n      <td>-18.270120</td>\n      <td>-0.338986</td>\n    </tr>\n    <tr>\n      <th>101</th>\n      <td>1920.0</td>\n      <td>1080.0</td>\n      <td>442.0</td>\n      <td>484.0</td>\n      <td>449.0</td>\n      <td>486.0</td>\n      <td>441.0</td>\n      <td>507.0</td>\n      <td>435.0</td>\n      <td>505.0</td>\n      <td>10</td>\n      <td>2</td>\n      <td>0.8</td>\n      <td>-18.270120</td>\n      <td>-0.338986</td>\n    </tr>\n    <tr>\n      <th>102</th>\n      <td>1920.0</td>\n      <td>1080.0</td>\n      <td>458.0</td>\n      <td>489.0</td>\n      <td>558.0</td>\n      <td>521.0</td>\n      <td>551.0</td>\n      <td>542.0</td>\n      <td>451.0</td>\n      <td>510.0</td>\n      <td>10</td>\n      <td>1</td>\n      <td>0.8</td>\n      <td>-18.270120</td>\n      <td>-0.338986</td>\n    </tr>\n    <tr>\n      <th>103</th>\n      <td>1920.0</td>\n      <td>1080.0</td>\n      <td>565.0</td>\n      <td>523.0</td>\n      <td>648.0</td>\n      <td>550.0</td>\n      <td>640.0</td>\n      <td>570.0</td>\n      <td>558.0</td>\n      <td>544.0</td>\n      <td>10</td>\n      <td>1</td>\n      <td>0.8</td>\n      <td>-18.270120</td>\n      <td>-0.338986</td>\n    </tr>\n    <tr>\n      <th>104</th>\n      <td>1920.0</td>\n      <td>1080.0</td>\n      <td>235.0</td>\n      <td>452.0</td>\n      <td>357.0</td>\n      <td>490.0</td>\n      <td>349.0</td>\n      <td>511.0</td>\n      <td>228.0</td>\n      <td>473.0</td>\n      <td>11</td>\n      <td>0</td>\n      <td>0.8</td>\n      <td>-18.270120</td>\n      <td>-0.338986</td>\n    </tr>\n    <tr>\n      <th>105</th>\n      <td>1920.0</td>\n      <td>1080.0</td>\n      <td>432.0</td>\n      <td>514.0</td>\n      <td>438.0</td>\n      <td>516.0</td>\n      <td>431.0</td>\n      <td>537.0</td>\n      <td>425.0</td>\n      <td>535.0</td>\n      <td>11</td>\n      <td>2</td>\n      <td>0.8</td>\n      <td>-18.270120</td>\n      <td>-0.338986</td>\n    </tr>\n    <tr>\n      <th>106</th>\n      <td>1920.0</td>\n      <td>1080.0</td>\n      <td>448.0</td>\n      <td>519.0</td>\n      <td>535.0</td>\n      <td>547.0</td>\n      <td>528.0</td>\n      <td>568.0</td>\n      <td>441.0</td>\n      <td>540.0</td>\n      <td>11</td>\n      <td>1</td>\n      <td>0.8</td>\n      <td>-18.270120</td>\n      <td>-0.338986</td>\n    </tr>\n    <tr>\n      <th>107</th>\n      <td>1920.0</td>\n      <td>1080.0</td>\n      <td>541.0</td>\n      <td>549.0</td>\n      <td>605.0</td>\n      <td>569.0</td>\n      <td>598.0</td>\n      <td>590.0</td>\n      <td>534.0</td>\n      <td>570.0</td>\n      <td>11</td>\n      <td>1</td>\n      <td>0.8</td>\n      <td>-18.270120</td>\n      <td>-0.338986</td>\n    </tr>\n    <tr>\n      <th>108</th>\n      <td>1920.0</td>\n      <td>1080.0</td>\n      <td>184.0</td>\n      <td>468.0</td>\n      <td>260.0</td>\n      <td>493.0</td>\n      <td>251.0</td>\n      <td>519.0</td>\n      <td>175.0</td>\n      <td>494.0</td>\n      <td>12</td>\n      <td>0</td>\n      <td>0.8</td>\n      <td>-18.270120</td>\n      <td>-0.338986</td>\n    </tr>\n    <tr>\n      <th>109</th>\n      <td>1920.0</td>\n      <td>1080.0</td>\n      <td>422.0</td>\n      <td>544.0</td>\n      <td>428.0</td>\n      <td>546.0</td>\n      <td>421.0</td>\n      <td>567.0</td>\n      <td>415.0</td>\n      <td>565.0</td>\n      <td>12</td>\n      <td>2</td>\n      <td>0.8</td>\n      <td>-18.270120</td>\n      <td>-0.338986</td>\n    </tr>\n    <tr>\n      <th>110</th>\n      <td>1920.0</td>\n      <td>1080.0</td>\n      <td>437.0</td>\n      <td>549.0</td>\n      <td>556.0</td>\n      <td>587.0</td>\n      <td>548.0</td>\n      <td>608.0</td>\n      <td>430.0</td>\n      <td>570.0</td>\n      <td>12</td>\n      <td>1</td>\n      <td>0.8</td>\n      <td>-18.270120</td>\n      <td>-0.338986</td>\n    </tr>\n    <tr>\n      <th>111</th>\n      <td>1920.0</td>\n      <td>1080.0</td>\n      <td>173.0</td>\n      <td>498.0</td>\n      <td>241.0</td>\n      <td>520.0</td>\n      <td>234.0</td>\n      <td>541.0</td>\n      <td>166.0</td>\n      <td>519.0</td>\n      <td>13</td>\n      <td>0</td>\n      <td>0.8</td>\n      <td>-18.270120</td>\n      <td>-0.338986</td>\n    </tr>\n    <tr>\n      <th>112</th>\n      <td>1920.0</td>\n      <td>1080.0</td>\n      <td>247.0</td>\n      <td>522.0</td>\n      <td>373.0</td>\n      <td>562.0</td>\n      <td>366.0</td>\n      <td>583.0</td>\n      <td>240.0</td>\n      <td>543.0</td>\n      <td>13</td>\n      <td>0</td>\n      <td>0.8</td>\n      <td>-18.270120</td>\n      <td>-0.338986</td>\n    </tr>\n    <tr>\n      <th>113</th>\n      <td>1920.0</td>\n      <td>1080.0</td>\n      <td>412.0</td>\n      <td>574.0</td>\n      <td>418.0</td>\n      <td>576.0</td>\n      <td>411.0</td>\n      <td>597.0</td>\n      <td>405.0</td>\n      <td>595.0</td>\n      <td>13</td>\n      <td>2</td>\n      <td>0.8</td>\n      <td>-18.270120</td>\n      <td>-0.338986</td>\n    </tr>\n    <tr>\n      <th>114</th>\n      <td>1920.0</td>\n      <td>1080.0</td>\n      <td>427.0</td>\n      <td>579.0</td>\n      <td>505.0</td>\n      <td>604.0</td>\n      <td>498.0</td>\n      <td>625.0</td>\n      <td>420.0</td>\n      <td>600.0</td>\n      <td>13</td>\n      <td>1</td>\n      <td>0.8</td>\n      <td>-18.270120</td>\n      <td>-0.338986</td>\n    </tr>\n    <tr>\n      <th>115</th>\n      <td>1920.0</td>\n      <td>1080.0</td>\n      <td>163.0</td>\n      <td>528.0</td>\n      <td>272.0</td>\n      <td>563.0</td>\n      <td>263.0</td>\n      <td>589.0</td>\n      <td>154.0</td>\n      <td>554.0</td>\n      <td>14</td>\n      <td>0</td>\n      <td>0.8</td>\n      <td>-18.270120</td>\n      <td>-0.338986</td>\n    </tr>\n    <tr>\n      <th>116</th>\n      <td>1920.0</td>\n      <td>1080.0</td>\n      <td>401.0</td>\n      <td>604.0</td>\n      <td>408.0</td>\n      <td>606.0</td>\n      <td>400.0</td>\n      <td>627.0</td>\n      <td>394.0</td>\n      <td>625.0</td>\n      <td>14</td>\n      <td>2</td>\n      <td>0.8</td>\n      <td>-18.270120</td>\n      <td>-0.338986</td>\n    </tr>\n    <tr>\n      <th>117</th>\n      <td>1920.0</td>\n      <td>1080.0</td>\n      <td>417.0</td>\n      <td>609.0</td>\n      <td>580.0</td>\n      <td>661.0</td>\n      <td>572.0</td>\n      <td>682.0</td>\n      <td>410.0</td>\n      <td>630.0</td>\n      <td>14</td>\n      <td>1</td>\n      <td>0.8</td>\n      <td>-18.270120</td>\n      <td>-0.338986</td>\n    </tr>\n    <tr>\n      <th>118</th>\n      <td>1920.0</td>\n      <td>1080.0</td>\n      <td>153.0</td>\n      <td>558.0</td>\n      <td>351.0</td>\n      <td>621.0</td>\n      <td>342.0</td>\n      <td>647.0</td>\n      <td>144.0</td>\n      <td>584.0</td>\n      <td>15</td>\n      <td>0</td>\n      <td>0.8</td>\n      <td>-18.270120</td>\n      <td>-0.338986</td>\n    </tr>\n    <tr>\n      <th>119</th>\n      <td>1920.0</td>\n      <td>1080.0</td>\n      <td>391.0</td>\n      <td>634.0</td>\n      <td>397.0</td>\n      <td>636.0</td>\n      <td>390.0</td>\n      <td>657.0</td>\n      <td>384.0</td>\n      <td>655.0</td>\n      <td>15</td>\n      <td>2</td>\n      <td>0.8</td>\n      <td>-18.270120</td>\n      <td>-0.338986</td>\n    </tr>\n    <tr>\n      <th>120</th>\n      <td>1920.0</td>\n      <td>1080.0</td>\n      <td>407.0</td>\n      <td>639.0</td>\n      <td>453.0</td>\n      <td>654.0</td>\n      <td>446.0</td>\n      <td>675.0</td>\n      <td>400.0</td>\n      <td>660.0</td>\n      <td>15</td>\n      <td>1</td>\n      <td>0.8</td>\n      <td>-18.270120</td>\n      <td>-0.338986</td>\n    </tr>\n    <tr>\n      <th>121</th>\n      <td>1920.0</td>\n      <td>1080.0</td>\n      <td>143.0</td>\n      <td>588.0</td>\n      <td>225.0</td>\n      <td>614.0</td>\n      <td>217.0</td>\n      <td>635.0</td>\n      <td>135.0</td>\n      <td>609.0</td>\n      <td>16</td>\n      <td>0</td>\n      <td>0.8</td>\n      <td>-18.270120</td>\n      <td>-0.338986</td>\n    </tr>\n    <tr>\n      <th>122</th>\n      <td>1920.0</td>\n      <td>1080.0</td>\n      <td>231.0</td>\n      <td>616.0</td>\n      <td>307.0</td>\n      <td>641.0</td>\n      <td>298.0</td>\n      <td>666.0</td>\n      <td>222.0</td>\n      <td>642.0</td>\n      <td>16</td>\n      <td>0</td>\n      <td>0.8</td>\n      <td>-18.270120</td>\n      <td>-0.338986</td>\n    </tr>\n    <tr>\n      <th>123</th>\n      <td>1920.0</td>\n      <td>1080.0</td>\n      <td>381.0</td>\n      <td>664.0</td>\n      <td>387.0</td>\n      <td>666.0</td>\n      <td>380.0</td>\n      <td>687.0</td>\n      <td>374.0</td>\n      <td>685.0</td>\n      <td>16</td>\n      <td>2</td>\n      <td>0.8</td>\n      <td>-18.270120</td>\n      <td>-0.338986</td>\n    </tr>\n    <tr>\n      <th>124</th>\n      <td>1920.0</td>\n      <td>1080.0</td>\n      <td>396.0</td>\n      <td>669.0</td>\n      <td>500.0</td>\n      <td>702.0</td>\n      <td>493.0</td>\n      <td>723.0</td>\n      <td>389.0</td>\n      <td>690.0</td>\n      <td>16</td>\n      <td>1</td>\n      <td>0.8</td>\n      <td>-18.270120</td>\n      <td>-0.338986</td>\n    </tr>\n    <tr>\n      <th>125</th>\n      <td>1920.0</td>\n      <td>1080.0</td>\n      <td>506.0</td>\n      <td>704.0</td>\n      <td>581.0</td>\n      <td>728.0</td>\n      <td>574.0</td>\n      <td>748.0</td>\n      <td>499.0</td>\n      <td>725.0</td>\n      <td>16</td>\n      <td>1</td>\n      <td>0.8</td>\n      <td>-18.270120</td>\n      <td>-0.338986</td>\n    </tr>\n    <tr>\n      <th>126</th>\n      <td>1920.0</td>\n      <td>1080.0</td>\n      <td>925.0</td>\n      <td>748.0</td>\n      <td>1016.0</td>\n      <td>777.0</td>\n      <td>1010.0</td>\n      <td>795.0</td>\n      <td>918.0</td>\n      <td>766.0</td>\n      <td>17</td>\n      <td>1</td>\n      <td>0.8</td>\n      <td>-18.270120</td>\n      <td>-0.338986</td>\n    </tr>\n    <tr>\n      <th>127</th>\n      <td>1920.0</td>\n      <td>1080.0</td>\n      <td>1021.0</td>\n      <td>779.0</td>\n      <td>1088.0</td>\n      <td>800.0</td>\n      <td>1082.0</td>\n      <td>818.0</td>\n      <td>1015.0</td>\n      <td>797.0</td>\n      <td>17</td>\n      <td>1</td>\n      <td>0.8</td>\n      <td>-18.270120</td>\n      <td>-0.338986</td>\n    </tr>\n    <tr>\n      <th>128</th>\n      <td>1920.0</td>\n      <td>1080.0</td>\n      <td>944.0</td>\n      <td>788.0</td>\n      <td>1048.0</td>\n      <td>821.0</td>\n      <td>1042.0</td>\n      <td>839.0</td>\n      <td>938.0</td>\n      <td>806.0</td>\n      <td>18</td>\n      <td>1</td>\n      <td>0.8</td>\n      <td>-18.270120</td>\n      <td>-0.338986</td>\n    </tr>\n  </tbody>\n</table>\n<p>129 rows × 15 columns</p>\n</div>"
     },
     "execution_count": 215,
     "metadata": {},
     "output_type": "execute_result"
    }
   ],
   "source": [
    "import numpy as np\n",
    "import pandas as pd\n",
    "\n",
    "df = pd.DataFrame(points0+points1, columns=trainset.parse_column())\n",
    "df"
   ],
   "metadata": {
    "collapsed": false,
    "pycharm": {
     "name": "#%%\n"
    }
   }
  },
  {
   "cell_type": "code",
   "execution_count": 206,
   "outputs": [
    {
     "data": {
      "text/plain": "[[1920.0,\n  1440.0,\n  82.0,\n  789.0,\n  1125.0,\n  406.0,\n  1397.0,\n  990.0,\n  355.0,\n  1375.0,\n  0,\n  3,\n  0.8,\n  22.512395146400266,\n  0.2660713304429757],\n [1920.0,\n  1440.0,\n  438.0,\n  690.0,\n  586.0,\n  636.0,\n  598.0,\n  662.0,\n  450.0,\n  716.0,\n  1,\n  1,\n  0.8,\n  22.512395146400266,\n  0.2660713304429757],\n [1920.0,\n  1440.0,\n  594.0,\n  633.0,\n  645.0,\n  614.0,\n  657.0,\n  640.0,\n  606.0,\n  659.0,\n  1,\n  1,\n  0.8,\n  22.512395146400266,\n  0.2660713304429757],\n [1920.0,\n  1440.0,\n  654.0,\n  611.0,\n  794.0,\n  559.0,\n  806.0,\n  585.0,\n  666.0,\n  637.0,\n  1,\n  1,\n  0.8,\n  22.512395146400266,\n  0.2660713304429757],\n [1920.0,\n  1440.0,\n  484.0,\n  705.0,\n  625.0,\n  654.0,\n  637.0,\n  679.0,\n  496.0,\n  731.0,\n  2,\n  1,\n  0.8,\n  22.512395146400266,\n  0.2660713304429757],\n [1920.0,\n  1440.0,\n  633.0,\n  651.0,\n  774.0,\n  599.0,\n  786.0,\n  624.0,\n  645.0,\n  676.0,\n  2,\n  1,\n  0.8,\n  22.512395146400266,\n  0.2660713304429757],\n [1920.0,\n  1440.0,\n  156.0,\n  870.0,\n  233.0,\n  841.0,\n  249.0,\n  875.0,\n  171.0,\n  904.0,\n  3,\n  0,\n  0.8,\n  22.512395146400266,\n  0.2660713304429757],\n [1920.0,\n  1440.0,\n  352.0,\n  797.0,\n  377.0,\n  788.0,\n  393.0,\n  822.0,\n  367.0,\n  831.0,\n  3,\n  2,\n  0.8,\n  22.512395146400266,\n  0.2660713304429757],\n [1920.0,\n  1440.0,\n  393.0,\n  782.0,\n  780.0,\n  640.0,\n  795.0,\n  674.0,\n  409.0,\n  816.0,\n  3,\n  1,\n  0.8,\n  22.512395146400266,\n  0.2660713304429757],\n [1920.0,\n  1440.0,\n  181.0,\n  925.0,\n  245.0,\n  901.0,\n  254.0,\n  920.0,\n  190.0,\n  944.0,\n  4,\n  0,\n  0.8,\n  22.512395146400266,\n  0.2660713304429757],\n [1920.0,\n  1440.0,\n  418.0,\n  837.0,\n  425.0,\n  835.0,\n  434.0,\n  854.0,\n  427.0,\n  857.0,\n  4,\n  2,\n  0.8,\n  22.512395146400266,\n  0.2660713304429757],\n [1920.0,\n  1440.0,\n  434.0,\n  832.0,\n  509.0,\n  804.0,\n  518.0,\n  823.0,\n  443.0,\n  851.0,\n  4,\n  1,\n  0.8,\n  22.512395146400266,\n  0.2660713304429757],\n [1920.0,\n  1440.0,\n  515.0,\n  802.0,\n  664.0,\n  747.0,\n  673.0,\n  766.0,\n  524.0,\n  821.0,\n  4,\n  1,\n  0.8,\n  22.512395146400266,\n  0.2660713304429757],\n [1920.0,\n  1440.0,\n  194.0,\n  952.0,\n  314.0,\n  908.0,\n  325.0,\n  932.0,\n  205.0,\n  976.0,\n  5,\n  0,\n  0.8,\n  22.512395146400266,\n  0.2660713304429757],\n [1920.0,\n  1440.0,\n  320.0,\n  906.0,\n  374.0,\n  886.0,\n  382.0,\n  905.0,\n  329.0,\n  925.0,\n  5,\n  0,\n  0.8,\n  22.512395146400266,\n  0.2660713304429757],\n [1920.0,\n  1440.0,\n  431.0,\n  865.0,\n  437.0,\n  863.0,\n  446.0,\n  882.0,\n  440.0,\n  884.0,\n  5,\n  2,\n  0.8,\n  22.512395146400266,\n  0.2660713304429757],\n [1920.0,\n  1440.0,\n  447.0,\n  859.0,\n  539.0,\n  825.0,\n  549.0,\n  847.0,\n  457.0,\n  881.0,\n  5,\n  1,\n  0.8,\n  22.512395146400266,\n  0.2660713304429757],\n [1920.0,\n  1440.0,\n  545.0,\n  823.0,\n  668.0,\n  777.0,\n  677.0,\n  797.0,\n  554.0,\n  842.0,\n  5,\n  1,\n  0.8,\n  22.512395146400266,\n  0.2660713304429757],\n [1920.0,\n  1440.0,\n  207.0,\n  980.0,\n  264.0,\n  959.0,\n  273.0,\n  978.0,\n  216.0,\n  999.0,\n  6,\n  0,\n  0.8,\n  22.512395146400266,\n  0.2660713304429757],\n [1920.0,\n  1440.0,\n  270.0,\n  957.0,\n  355.0,\n  925.0,\n  364.0,\n  944.0,\n  279.0,\n  976.0,\n  6,\n  0,\n  0.8,\n  22.512395146400266,\n  0.2660713304429757],\n [1920.0,\n  1440.0,\n  444.0,\n  892.0,\n  450.0,\n  890.0,\n  459.0,\n  909.0,\n  453.0,\n  912.0,\n  6,\n  2,\n  0.8,\n  22.512395146400266,\n  0.2660713304429757],\n [1920.0,\n  1440.0,\n  460.0,\n  887.0,\n  609.0,\n  832.0,\n  618.0,\n  851.0,\n  469.0,\n  906.0,\n  6,\n  1,\n  0.8,\n  22.512395146400266,\n  0.2660713304429757],\n [1920.0,\n  1440.0,\n  712.0,\n  793.0,\n  756.0,\n  778.0,\n  765.0,\n  797.0,\n  721.0,\n  813.0,\n  7,\n  0,\n  0.8,\n  22.512395146400266,\n  0.2660713304429757],\n [1920.0,\n  1440.0,\n  762.0,\n  775.0,\n  828.0,\n  751.0,\n  837.0,\n  770.0,\n  771.0,\n  795.0,\n  7,\n  0,\n  0.8,\n  22.512395146400266,\n  0.2660713304429757],\n [1920.0,\n  1440.0,\n  831.0,\n  750.0,\n  837.0,\n  748.0,\n  846.0,\n  767.0,\n  840.0,\n  769.0,\n  7,\n  2,\n  0.8,\n  22.512395146400266,\n  0.2660713304429757],\n [1920.0,\n  1440.0,\n  836.0,\n  748.0,\n  868.0,\n  736.0,\n  877.0,\n  755.0,\n  845.0,\n  767.0,\n  7,\n  1,\n  0.8,\n  22.512395146400266,\n  0.2660713304429757],\n [1920.0,\n  1440.0,\n  220.0,\n  1007.0,\n  295.0,\n  980.0,\n  304.0,\n  999.0,\n  229.0,\n  1027.0,\n  8,\n  0,\n  0.8,\n  22.512395146400266,\n  0.2660713304429757],\n [1920.0,\n  1440.0,\n  457.0,\n  920.0,\n  463.0,\n  918.0,\n  472.0,\n  937.0,\n  466.0,\n  939.0,\n  8,\n  2,\n  0.8,\n  22.512395146400266,\n  0.2660713304429757],\n [1920.0,\n  1440.0,\n  472.0,\n  914.0,\n  598.0,\n  868.0,\n  607.0,\n  887.0,\n  481.0,\n  933.0,\n  8,\n  1,\n  0.8,\n  22.512395146400266,\n  0.2660713304429757],\n [1920.0,\n  1440.0,\n  604.0,\n  865.0,\n  680.0,\n  838.0,\n  689.0,\n  857.0,\n  613.0,\n  885.0,\n  8,\n  1,\n  0.8,\n  22.512395146400266,\n  0.2660713304429757],\n [1920.0,\n  1440.0,\n  274.0,\n  1020.0,\n  352.0,\n  991.0,\n  361.0,\n  1010.0,\n  283.0,\n  1039.0,\n  9,\n  0,\n  0.8,\n  22.512395146400266,\n  0.2660713304429757],\n [1920.0,\n  1440.0,\n  470.0,\n  947.0,\n  476.0,\n  945.0,\n  485.0,\n  964.0,\n  479.0,\n  967.0,\n  9,\n  2,\n  0.8,\n  22.512395146400266,\n  0.2660713304429757],\n [1920.0,\n  1440.0,\n  485.0,\n  942.0,\n  572.0,\n  910.0,\n  581.0,\n  929.0,\n  494.0,\n  961.0,\n  9,\n  1,\n  0.8,\n  22.512395146400266,\n  0.2660713304429757],\n [1920.0,\n  1440.0,\n  287.0,\n  1047.0,\n  384.0,\n  1011.0,\n  393.0,\n  1031.0,\n  296.0,\n  1066.0,\n  10,\n  0,\n  0.8,\n  22.512395146400266,\n  0.2660713304429757],\n [1920.0,\n  1440.0,\n  483.0,\n  975.0,\n  489.0,\n  973.0,\n  498.0,\n  992.0,\n  492.0,\n  994.0,\n  10,\n  2,\n  0.8,\n  22.512395146400266,\n  0.2660713304429757],\n [1920.0,\n  1440.0,\n  498.0,\n  969.0,\n  624.0,\n  923.0,\n  633.0,\n  942.0,\n  507.0,\n  988.0,\n  10,\n  1,\n  0.8,\n  22.512395146400266,\n  0.2660713304429757],\n [1920.0,\n  1440.0,\n  630.0,\n  921.0,\n  705.0,\n  893.0,\n  714.0,\n  912.0,\n  639.0,\n  940.0,\n  10,\n  1,\n  0.8,\n  22.512395146400266,\n  0.2660713304429757],\n [1920.0,\n  1440.0,\n  299.0,\n  1075.0,\n  420.0,\n  1030.0,\n  429.0,\n  1049.0,\n  308.0,\n  1094.0,\n  11,\n  0,\n  0.8,\n  22.512395146400266,\n  0.2660713304429757],\n [1920.0,\n  1440.0,\n  495.0,\n  1002.0,\n  502.0,\n  1000.0,\n  511.0,\n  1019.0,\n  504.0,\n  1022.0,\n  11,\n  2,\n  0.8,\n  22.512395146400266,\n  0.2660713304429757],\n [1920.0,\n  1440.0,\n  511.0,\n  997.0,\n  579.0,\n  972.0,\n  588.0,\n  991.0,\n  520.0,\n  1016.0,\n  11,\n  1,\n  0.8,\n  22.512395146400266,\n  0.2660713304429757],\n [1920.0,\n  1440.0,\n  585.0,\n  969.0,\n  642.0,\n  948.0,\n  651.0,\n  968.0,\n  594.0,\n  989.0,\n  11,\n  1,\n  0.8,\n  22.512395146400266,\n  0.2660713304429757],\n [1920.0,\n  1440.0,\n  271.0,\n  1117.0,\n  347.0,\n  1089.0,\n  358.0,\n  1113.0,\n  282.0,\n  1141.0,\n  12,\n  0,\n  0.8,\n  22.512395146400266,\n  0.2660713304429757],\n [1920.0,\n  1440.0,\n  508.0,\n  1030.0,\n  514.0,\n  1028.0,\n  523.0,\n  1047.0,\n  517.0,\n  1049.0,\n  12,\n  2,\n  0.8,\n  22.512395146400266,\n  0.2660713304429757],\n [1920.0,\n  1440.0,\n  524.0,\n  1024.0,\n  594.0,\n  998.0,\n  603.0,\n  1018.0,\n  533.0,\n  1043.0,\n  12,\n  1,\n  0.8,\n  22.512395146400266,\n  0.2660713304429757],\n [1920.0,\n  1440.0,\n  284.0,\n  1145.0,\n  351.0,\n  1120.0,\n  360.0,\n  1139.0,\n  293.0,\n  1164.0,\n  13,\n  0,\n  0.8,\n  22.512395146400266,\n  0.2660713304429757],\n [1920.0,\n  1440.0,\n  357.0,\n  1118.0,\n  483.0,\n  1071.0,\n  492.0,\n  1091.0,\n  366.0,\n  1137.0,\n  13,\n  0,\n  0.8,\n  22.512395146400266,\n  0.2660713304429757],\n [1920.0,\n  1440.0,\n  521.0,\n  1057.0,\n  527.0,\n  1055.0,\n  536.0,\n  1074.0,\n  530.0,\n  1077.0,\n  13,\n  2,\n  0.8,\n  22.512395146400266,\n  0.2660713304429757],\n [1920.0,\n  1440.0,\n  536.0,\n  1052.0,\n  614.0,\n  1023.0,\n  623.0,\n  1042.0,\n  545.0,\n  1071.0,\n  13,\n  1,\n  0.8,\n  22.512395146400266,\n  0.2660713304429757],\n [1920.0,\n  1440.0,\n  297.0,\n  1172.0,\n  405.0,\n  1132.0,\n  416.0,\n  1156.0,\n  308.0,\n  1196.0,\n  14,\n  0,\n  0.8,\n  22.512395146400266,\n  0.2660713304429757],\n [1920.0,\n  1440.0,\n  534.0,\n  1085.0,\n  540.0,\n  1083.0,\n  549.0,\n  1102.0,\n  543.0,\n  1104.0,\n  14,\n  2,\n  0.8,\n  22.512395146400266,\n  0.2660713304429757],\n [1920.0,\n  1440.0,\n  549.0,\n  1079.0,\n  684.0,\n  1029.0,\n  693.0,\n  1049.0,\n  558.0,\n  1098.0,\n  14,\n  1,\n  0.8,\n  22.512395146400266,\n  0.2660713304429757],\n [1920.0,\n  1440.0,\n  691.0,\n  1027.0,\n  791.0,\n  990.0,\n  800.0,\n  1010.0,\n  700.0,\n  1046.0,\n  14,\n  1,\n  0.8,\n  22.512395146400266,\n  0.2660713304429757],\n [1920.0,\n  1440.0,\n  309.0,\n  1200.0,\n  506.0,\n  1127.0,\n  518.0,\n  1151.0,\n  321.0,\n  1224.0,\n  15,\n  0,\n  0.8,\n  22.512395146400266,\n  0.2660713304429757],\n [1920.0,\n  1440.0,\n  547.0,\n  1112.0,\n  553.0,\n  1110.0,\n  562.0,\n  1129.0,\n  556.0,\n  1132.0,\n  15,\n  2,\n  0.8,\n  22.512395146400266,\n  0.2660713304429757],\n [1920.0,\n  1440.0,\n  562.0,\n  1107.0,\n  609.0,\n  1090.0,\n  618.0,\n  1109.0,\n  571.0,\n  1126.0,\n  15,\n  1,\n  0.8,\n  22.512395146400266,\n  0.2660713304429757],\n [1920.0,\n  1440.0,\n  322.0,\n  1227.0,\n  404.0,\n  1197.0,\n  413.0,\n  1217.0,\n  331.0,\n  1247.0,\n  16,\n  0,\n  0.8,\n  22.512395146400266,\n  0.2660713304429757],\n [1920.0,\n  1440.0,\n  410.0,\n  1195.0,\n  486.0,\n  1167.0,\n  497.0,\n  1191.0,\n  421.0,\n  1219.0,\n  16,\n  0,\n  0.8,\n  22.512395146400266,\n  0.2660713304429757],\n [1920.0,\n  1440.0,\n  559.0,\n  1140.0,\n  566.0,\n  1138.0,\n  575.0,\n  1157.0,\n  568.0,\n  1159.0,\n  16,\n  2,\n  0.8,\n  22.512395146400266,\n  0.2660713304429757],\n [1920.0,\n  1440.0,\n  575.0,\n  1134.0,\n  678.0,\n  1096.0,\n  687.0,\n  1116.0,\n  584.0,\n  1154.0,\n  16,\n  1,\n  0.8,\n  22.512395146400266,\n  0.2660713304429757],\n [1920.0,\n  1440.0,\n  684.0,\n  1094.0,\n  759.0,\n  1067.0,\n  768.0,\n  1086.0,\n  693.0,\n  1113.0,\n  16,\n  1,\n  0.8,\n  22.512395146400266,\n  0.2660713304429757],\n [1920.0,\n  1440.0,\n  1027.0,\n  882.0,\n  1118.0,\n  848.0,\n  1126.0,\n  865.0,\n  1035.0,\n  898.0,\n  17,\n  1,\n  0.8,\n  22.512395146400266,\n  0.2660713304429757],\n [1920.0,\n  1440.0,\n  1123.0,\n  846.0,\n  1215.0,\n  812.0,\n  1222.0,\n  829.0,\n  1131.0,\n  863.0,\n  17,\n  1,\n  0.8,\n  22.512395146400266,\n  0.2660713304429757],\n [1920.0,\n  1440.0,\n  1082.0,\n  894.0,\n  1185.0,\n  856.0,\n  1193.0,\n  872.0,\n  1090.0,\n  910.0,\n  18,\n  1,\n  0.8,\n  22.512395146400266,\n  0.2660713304429757]]"
     },
     "execution_count": 206,
     "metadata": {},
     "output_type": "execute_result"
    }
   ],
   "source": [
    "import random\n",
    "random.choice([1,2,3,4])\n",
    "# points"
   ],
   "metadata": {
    "collapsed": false,
    "pycharm": {
     "name": "#%%\n"
    }
   }
  },
  {
   "cell_type": "code",
   "execution_count": 123,
   "outputs": [],
   "source": [
    "# ar = [1,2,3,4]\n",
    "# ar.insert(len(ar), 10)"
   ],
   "metadata": {
    "collapsed": false,
    "pycharm": {
     "name": "#%%\n"
    }
   }
  },
  {
   "cell_type": "code",
   "execution_count": 124,
   "outputs": [
    {
     "data": {
      "text/plain": "[1, 2, 3, 4, 10]"
     },
     "execution_count": 124,
     "metadata": {},
     "output_type": "execute_result"
    }
   ],
   "source": [
    "# ar\n"
   ],
   "metadata": {
    "collapsed": false,
    "pycharm": {
     "name": "#%%\n"
    }
   }
  },
  {
   "cell_type": "code",
   "execution_count": null,
   "outputs": [],
   "source": [],
   "metadata": {
    "collapsed": false,
    "pycharm": {
     "name": "#%%\n"
    }
   }
  }
 ],
 "metadata": {
  "kernelspec": {
   "display_name": "Python 3",
   "language": "python",
   "name": "python3"
  },
  "language_info": {
   "codemirror_mode": {
    "name": "ipython",
    "version": 2
   },
   "file_extension": ".py",
   "mimetype": "text/x-python",
   "name": "python",
   "nbconvert_exporter": "python",
   "pygments_lexer": "ipython2",
   "version": "2.7.6"
  }
 },
 "nbformat": 4,
 "nbformat_minor": 0
}