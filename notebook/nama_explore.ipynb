{
 "cells": [
  {
   "cell_type": "code",
   "execution_count": 13,
   "id": "periodic-execution",
   "metadata": {},
   "outputs": [],
   "source": [
    "import pandas as pd\n",
    "import numpy as np"
   ]
  },
  {
   "cell_type": "code",
   "execution_count": 22,
   "id": "failing-picking",
   "metadata": {},
   "outputs": [],
   "source": [
    "path = '../data/csv_source/nama_gelar.csv'\n",
    "df = pd.read_csv(path)"
   ]
  },
  {
   "cell_type": "code",
   "execution_count": 23,
   "id": "appointed-indie",
   "metadata": {},
   "outputs": [],
   "source": [
    "df.drop(df[df['strata']=='Profesi'].index.tolist(), inplace=True)\n",
    "df.drop(df[df['strata']=='S3'].index.tolist(), inplace=True)\n",
    "df.drop(df[df['strata']=='Sp1'].index.tolist(), inplace=True)\n",
    "df.drop(df[df['strata']=='Sp2'].index.tolist(), inplace=True)"
   ]
  },
  {
   "cell_type": "code",
   "execution_count": 25,
   "id": "wound-coordinator",
   "metadata": {},
   "outputs": [],
   "source": [
    "df.to_csv(path, index=False)"
   ]
  },
  {
   "cell_type": "code",
   "execution_count": 10,
   "id": "photographic-reproduction",
   "metadata": {},
   "outputs": [],
   "source": [
    "df = df.drop(\"Unnamed: 0\",axis=1)"
   ]
  },
  {
   "cell_type": "code",
   "execution_count": 11,
   "id": "correct-taiwan",
   "metadata": {},
   "outputs": [],
   "source": [
    "df.to_csv(path, index=False)"
   ]
  },
  {
   "cell_type": "code",
   "execution_count": 3,
   "id": "stone-wages",
   "metadata": {},
   "outputs": [],
   "source": [
    "contains = df[df['name'].str.contains(\"\\(|\\)\", na=False)]\n",
    "contains['name'] = contains['name'].str.replace(r' \\(.*\\)','')"
   ]
  },
  {
   "cell_type": "code",
   "execution_count": 4,
   "id": "vietnamese-principal",
   "metadata": {},
   "outputs": [],
   "source": [
    "indices = contains.index.tolist()"
   ]
  },
  {
   "cell_type": "code",
   "execution_count": 5,
   "id": "maritime-atlanta",
   "metadata": {},
   "outputs": [],
   "source": [
    "indices"
   ]
  },
  {
   "cell_type": "code",
   "execution_count": 98,
   "id": "valued-restaurant",
   "metadata": {},
   "outputs": [
    {
     "data": {
      "text/plain": [
       "'LALU ERFANDI K MAULA YUSNU, S.KOM'"
      ]
     },
     "execution_count": 98,
     "metadata": {},
     "output_type": "execute_result"
    }
   ],
   "source": [
    "import string\n",
    "import random\n",
    "abjad = string.ascii_uppercase\n",
    "abb = random.choices(abjad, k=1)[0]\n",
    "\n",
    "name = 'Lalu Erfandi Maula Yusnu, S.Kom'.upper()\n",
    "is_gelar = True\n",
    "\n",
    "name_list = name.split(\" \")\n",
    "name_len = len(name_list)\n",
    "if is_gelar:\n",
    "    middle_index = name_len // 2\n",
    "    name_list.insert(middle_index, abb)\n",
    "else:\n",
    "    name_list.insert(name_len, abb)\n",
    "    \n",
    "' '.join(name_list)"
   ]
  },
  {
   "cell_type": "code",
   "execution_count": 117,
   "id": "center-provider",
   "metadata": {},
   "outputs": [],
   "source": [
    "for idx in indices:\n",
    "    df.loc[idx, 'name'] = contains.loc[idx]['name']"
   ]
  },
  {
   "cell_type": "code",
   "execution_count": 121,
   "id": "described-bristol",
   "metadata": {},
   "outputs": [],
   "source": [
    "new_indices = df[df['name'].str.contains(\"\\(|\\)\", na=False)].index.tolist()"
   ]
  },
  {
   "cell_type": "code",
   "execution_count": 122,
   "id": "acquired-journalism",
   "metadata": {},
   "outputs": [],
   "source": [
    "df.drop(indices, inplace=True)"
   ]
  },
  {
   "cell_type": "code",
   "execution_count": 125,
   "id": "indie-baking",
   "metadata": {},
   "outputs": [],
   "source": [
    "df.to_csv(path)"
   ]
  },
  {
   "cell_type": "code",
   "execution_count": 109,
   "id": "hazardous-import",
   "metadata": {},
   "outputs": [
    {
     "data": {
      "text/html": [
       "<div>\n",
       "<style scoped>\n",
       "    .dataframe tbody tr th:only-of-type {\n",
       "        vertical-align: middle;\n",
       "    }\n",
       "\n",
       "    .dataframe tbody tr th {\n",
       "        vertical-align: top;\n",
       "    }\n",
       "\n",
       "    .dataframe thead th {\n",
       "        text-align: right;\n",
       "    }\n",
       "</style>\n",
       "<table border=\"1\" class=\"dataframe\">\n",
       "  <thead>\n",
       "    <tr style=\"text-align: right;\">\n",
       "      <th></th>\n",
       "      <th>name</th>\n",
       "      <th>base_name</th>\n",
       "      <th>gender</th>\n",
       "      <th>source</th>\n",
       "    </tr>\n",
       "  </thead>\n",
       "  <tbody>\n",
       "    <tr>\n",
       "      <th>2439</th>\n",
       "      <td>Heru Anggara (b)</td>\n",
       "      <td>heru</td>\n",
       "      <td>male</td>\n",
       "      <td>kamusnama.com</td>\n",
       "    </tr>\n",
       "    <tr>\n",
       "      <th>11849</th>\n",
       "      <td>Lasmini (a)</td>\n",
       "      <td>lasmi</td>\n",
       "      <td>female</td>\n",
       "      <td>kamusnama.com</td>\n",
       "    </tr>\n",
       "    <tr>\n",
       "      <th>11864</th>\n",
       "      <td>Lasmini (b)</td>\n",
       "      <td>lasmi</td>\n",
       "      <td>female</td>\n",
       "      <td>kamusnama.com</td>\n",
       "    </tr>\n",
       "    <tr>\n",
       "      <th>14631</th>\n",
       "      <td>Engelina Ratu Marisa (papua)</td>\n",
       "      <td>engel</td>\n",
       "      <td>female</td>\n",
       "      <td>kamusnama.com</td>\n",
       "    </tr>\n",
       "    <tr>\n",
       "      <th>18173</th>\n",
       "      <td>Uswatun Hasanah (a)</td>\n",
       "      <td>uswa</td>\n",
       "      <td>female</td>\n",
       "      <td>kamusnama.com</td>\n",
       "    </tr>\n",
       "    <tr>\n",
       "      <th>...</th>\n",
       "      <td>...</td>\n",
       "      <td>...</td>\n",
       "      <td>...</td>\n",
       "      <td>...</td>\n",
       "    </tr>\n",
       "    <tr>\n",
       "      <th>54253</th>\n",
       "      <td>Dong-sun (korea) Erwin (inggris) Tyler (inggris)</td>\n",
       "      <td>dong-sun (korea)</td>\n",
       "      <td>male</td>\n",
       "      <td>maknaa.com</td>\n",
       "    </tr>\n",
       "    <tr>\n",
       "      <th>54299</th>\n",
       "      <td>Donata (italia)</td>\n",
       "      <td>donata (italia)</td>\n",
       "      <td>female</td>\n",
       "      <td>maknaa.com</td>\n",
       "    </tr>\n",
       "    <tr>\n",
       "      <th>54342</th>\n",
       "      <td>Carey (wales) Pinda (indonesia) Berta (jerman)...</td>\n",
       "      <td>carey (wales)</td>\n",
       "      <td>female</td>\n",
       "      <td>maknaa.com</td>\n",
       "    </tr>\n",
       "    <tr>\n",
       "      <th>54391</th>\n",
       "      <td>Colbert (inggris)</td>\n",
       "      <td>colbert (inggris)</td>\n",
       "      <td>male</td>\n",
       "      <td>maknaa.com</td>\n",
       "    </tr>\n",
       "    <tr>\n",
       "      <th>54452</th>\n",
       "      <td>Cho-hee (korea) Jenna (inggris) Huberta (tutenik)</td>\n",
       "      <td>cho-hee (korea)</td>\n",
       "      <td>female</td>\n",
       "      <td>maknaa.com</td>\n",
       "    </tr>\n",
       "  </tbody>\n",
       "</table>\n",
       "<p>499 rows × 4 columns</p>\n",
       "</div>"
      ],
      "text/plain": [
       "                                                    name           base_name  \\\n",
       "2439                                    Heru Anggara (b)                heru   \n",
       "11849                                        Lasmini (a)               lasmi   \n",
       "11864                                        Lasmini (b)               lasmi   \n",
       "14631                       Engelina Ratu Marisa (papua)               engel   \n",
       "18173                                Uswatun Hasanah (a)                uswa   \n",
       "...                                                  ...                 ...   \n",
       "54253   Dong-sun (korea) Erwin (inggris) Tyler (inggris)   dong-sun (korea)    \n",
       "54299                                    Donata (italia)    donata (italia)    \n",
       "54342  Carey (wales) Pinda (indonesia) Berta (jerman)...      carey (wales)    \n",
       "54391                                  Colbert (inggris)  colbert (inggris)    \n",
       "54452  Cho-hee (korea) Jenna (inggris) Huberta (tutenik)    cho-hee (korea)    \n",
       "\n",
       "       gender         source  \n",
       "2439     male  kamusnama.com  \n",
       "11849  female  kamusnama.com  \n",
       "11864  female  kamusnama.com  \n",
       "14631  female  kamusnama.com  \n",
       "18173  female  kamusnama.com  \n",
       "...       ...            ...  \n",
       "54253    male     maknaa.com  \n",
       "54299  female     maknaa.com  \n",
       "54342  female     maknaa.com  \n",
       "54391    male     maknaa.com  \n",
       "54452  female     maknaa.com  \n",
       "\n",
       "[499 rows x 4 columns]"
      ]
     },
     "execution_count": 109,
     "metadata": {},
     "output_type": "execute_result"
    }
   ],
   "source": [
    "df[df['name'].str.contains(\"\\(|\\)\", na=False)]"
   ]
  },
  {
   "cell_type": "code",
   "execution_count": 77,
   "id": "disciplinary-budget",
   "metadata": {},
   "outputs": [],
   "source": [
    "indices = df[df['name'].str.contains(\"\\(|\\)\", na=False)].index.tolist()"
   ]
  },
  {
   "cell_type": "code",
   "execution_count": 78,
   "id": "hungry-vector",
   "metadata": {},
   "outputs": [
    {
     "data": {
      "text/plain": [
       "[30096, 38394, 40848, 43427, 45844, 47949, 48230, 49240, 50328]"
      ]
     },
     "execution_count": 78,
     "metadata": {},
     "output_type": "execute_result"
    }
   ],
   "source": [
    "indices"
   ]
  },
  {
   "cell_type": "code",
   "execution_count": 68,
   "id": "intended-identity",
   "metadata": {},
   "outputs": [
    {
     "data": {
      "text/plain": [
       "Int64Index([40848, 43427, 47949, 48230, 49240], dtype='int64')"
      ]
     },
     "execution_count": 68,
     "metadata": {},
     "output_type": "execute_result"
    }
   ],
   "source": [
    "df.index[indices]"
   ]
  },
  {
   "cell_type": "code",
   "execution_count": 65,
   "id": "regular-water",
   "metadata": {},
   "outputs": [
    {
     "data": {
      "text/plain": [
       "[40848, 43427, 47949, 48230, 49240]"
      ]
     },
     "execution_count": 65,
     "metadata": {},
     "output_type": "execute_result"
    }
   ],
   "source": [
    "indices"
   ]
  },
  {
   "cell_type": "code",
   "execution_count": 69,
   "id": "ecological-member",
   "metadata": {},
   "outputs": [],
   "source": [
    "df.drop(df.index[indices], inplace=True)"
   ]
  },
  {
   "cell_type": "code",
   "execution_count": 70,
   "id": "medical-firmware",
   "metadata": {},
   "outputs": [
    {
     "data": {
      "text/html": [
       "<div>\n",
       "<style scoped>\n",
       "    .dataframe tbody tr th:only-of-type {\n",
       "        vertical-align: middle;\n",
       "    }\n",
       "\n",
       "    .dataframe tbody tr th {\n",
       "        vertical-align: top;\n",
       "    }\n",
       "\n",
       "    .dataframe thead th {\n",
       "        text-align: right;\n",
       "    }\n",
       "</style>\n",
       "<table border=\"1\" class=\"dataframe\">\n",
       "  <thead>\n",
       "    <tr style=\"text-align: right;\">\n",
       "      <th></th>\n",
       "      <th>name</th>\n",
       "      <th>base_name</th>\n",
       "      <th>gender</th>\n",
       "      <th>source</th>\n",
       "    </tr>\n",
       "  </thead>\n",
       "  <tbody>\n",
       "    <tr>\n",
       "      <th>0</th>\n",
       "      <td>NaN</td>\n",
       "      <td>joan</td>\n",
       "      <td>male</td>\n",
       "      <td>kamusnama.com</td>\n",
       "    </tr>\n",
       "    <tr>\n",
       "      <th>1</th>\n",
       "      <td>NaN</td>\n",
       "      <td>joan</td>\n",
       "      <td>male</td>\n",
       "      <td>kamusnama.com</td>\n",
       "    </tr>\n",
       "    <tr>\n",
       "      <th>2</th>\n",
       "      <td>NaN</td>\n",
       "      <td>joan</td>\n",
       "      <td>male</td>\n",
       "      <td>kamusnama.com</td>\n",
       "    </tr>\n",
       "    <tr>\n",
       "      <th>3</th>\n",
       "      <td>NaN</td>\n",
       "      <td>joan</td>\n",
       "      <td>male</td>\n",
       "      <td>kamusnama.com</td>\n",
       "    </tr>\n",
       "    <tr>\n",
       "      <th>4</th>\n",
       "      <td>NaN</td>\n",
       "      <td>joan</td>\n",
       "      <td>male</td>\n",
       "      <td>kamusnama.com</td>\n",
       "    </tr>\n",
       "    <tr>\n",
       "      <th>...</th>\n",
       "      <td>...</td>\n",
       "      <td>...</td>\n",
       "      <td>...</td>\n",
       "      <td>...</td>\n",
       "    </tr>\n",
       "    <tr>\n",
       "      <th>54517</th>\n",
       "      <td>NaN</td>\n",
       "      <td>jayadi</td>\n",
       "      <td>male</td>\n",
       "      <td>maknaa.com</td>\n",
       "    </tr>\n",
       "    <tr>\n",
       "      <th>54518</th>\n",
       "      <td>NaN</td>\n",
       "      <td>charly</td>\n",
       "      <td>male</td>\n",
       "      <td>maknaa.com</td>\n",
       "    </tr>\n",
       "    <tr>\n",
       "      <th>54519</th>\n",
       "      <td>NaN</td>\n",
       "      <td>carenza</td>\n",
       "      <td>female</td>\n",
       "      <td>maknaa.com</td>\n",
       "    </tr>\n",
       "    <tr>\n",
       "      <th>54520</th>\n",
       "      <td>NaN</td>\n",
       "      <td>nazaha</td>\n",
       "      <td>female</td>\n",
       "      <td>maknaa.com</td>\n",
       "    </tr>\n",
       "    <tr>\n",
       "      <th>54521</th>\n",
       "      <td>NaN</td>\n",
       "      <td>chasidah</td>\n",
       "      <td>female</td>\n",
       "      <td>maknaa.com</td>\n",
       "    </tr>\n",
       "  </tbody>\n",
       "</table>\n",
       "<p>54517 rows × 4 columns</p>\n",
       "</div>"
      ],
      "text/plain": [
       "      name  base_name  gender         source\n",
       "0      NaN       joan    male  kamusnama.com\n",
       "1      NaN       joan    male  kamusnama.com\n",
       "2      NaN       joan    male  kamusnama.com\n",
       "3      NaN       joan    male  kamusnama.com\n",
       "4      NaN       joan    male  kamusnama.com\n",
       "...    ...        ...     ...            ...\n",
       "54517  NaN    jayadi     male     maknaa.com\n",
       "54518  NaN    charly     male     maknaa.com\n",
       "54519  NaN   carenza   female     maknaa.com\n",
       "54520  NaN    nazaha   female     maknaa.com\n",
       "54521  NaN  chasidah   female     maknaa.com\n",
       "\n",
       "[54517 rows x 4 columns]"
      ]
     },
     "execution_count": 70,
     "metadata": {},
     "output_type": "execute_result"
    }
   ],
   "source": [
    "df"
   ]
  },
  {
   "cell_type": "code",
   "execution_count": null,
   "id": "convinced-refund",
   "metadata": {},
   "outputs": [],
   "source": [
    "df"
   ]
  }
 ],
 "metadata": {
  "kernelspec": {
   "display_name": "Python 3.6.8 64-bit ('dlearn': conda)",
   "language": "python",
   "name": "python36864bitdlearnconda8b52482a293448b0acf9689b7cde63c2"
  },
  "language_info": {
   "codemirror_mode": {
    "name": "ipython",
    "version": 3
   },
   "file_extension": ".py",
   "mimetype": "text/x-python",
   "name": "python",
   "nbconvert_exporter": "python",
   "pygments_lexer": "ipython3",
   "version": "3.6.8"
  }
 },
 "nbformat": 4,
 "nbformat_minor": 5
}
