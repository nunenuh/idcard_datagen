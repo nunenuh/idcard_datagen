{
 "cells": [
  {
   "cell_type": "code",
   "execution_count": 2,
   "metadata": {},
   "outputs": [],
   "source": [
    "import pandas as pd"
   ]
  },
  {
   "cell_type": "code",
   "execution_count": 3,
   "metadata": {},
   "outputs": [],
   "source": [
    "path = 'data/csv_source/wilayah.csv'\n",
    "df = pd.read_csv(path)"
   ]
  },
  {
   "cell_type": "code",
   "execution_count": 6,
   "metadata": {},
   "outputs": [
    {
     "data": {
      "text/html": [
       "<div>\n",
       "<style scoped>\n",
       "    .dataframe tbody tr th:only-of-type {\n",
       "        vertical-align: middle;\n",
       "    }\n",
       "\n",
       "    .dataframe tbody tr th {\n",
       "        vertical-align: top;\n",
       "    }\n",
       "\n",
       "    .dataframe thead th {\n",
       "        text-align: right;\n",
       "    }\n",
       "</style>\n",
       "<table border=\"1\" class=\"dataframe\">\n",
       "  <thead>\n",
       "    <tr style=\"text-align: right;\">\n",
       "      <th></th>\n",
       "      <th>kode</th>\n",
       "      <th>nama</th>\n",
       "    </tr>\n",
       "  </thead>\n",
       "  <tbody>\n",
       "    <tr>\n",
       "      <th>27499</th>\n",
       "      <td>31</td>\n",
       "      <td>DKI JAKARTA</td>\n",
       "    </tr>\n",
       "    <tr>\n",
       "      <th>27500</th>\n",
       "      <td>31.01</td>\n",
       "      <td>KAB. ADM. KEP. SERIBU</td>\n",
       "    </tr>\n",
       "    <tr>\n",
       "      <th>27501</th>\n",
       "      <td>31.01.01</td>\n",
       "      <td>Kepulauan Seribu Utara</td>\n",
       "    </tr>\n",
       "    <tr>\n",
       "      <th>27502</th>\n",
       "      <td>31.01.01.1001</td>\n",
       "      <td>Pulau Panggang</td>\n",
       "    </tr>\n",
       "    <tr>\n",
       "      <th>27503</th>\n",
       "      <td>31.01.01.1002</td>\n",
       "      <td>Pulau Kelapa</td>\n",
       "    </tr>\n",
       "    <tr>\n",
       "      <th>...</th>\n",
       "      <td>...</td>\n",
       "      <td>...</td>\n",
       "    </tr>\n",
       "    <tr>\n",
       "      <th>27812</th>\n",
       "      <td>31.75.10.1004</td>\n",
       "      <td>Munjul</td>\n",
       "    </tr>\n",
       "    <tr>\n",
       "      <th>27813</th>\n",
       "      <td>31.75.10.1005</td>\n",
       "      <td>Setu</td>\n",
       "    </tr>\n",
       "    <tr>\n",
       "      <th>27814</th>\n",
       "      <td>31.75.10.1006</td>\n",
       "      <td>Bambu Apus</td>\n",
       "    </tr>\n",
       "    <tr>\n",
       "      <th>27815</th>\n",
       "      <td>31.75.10.1007</td>\n",
       "      <td>Lubang Buaya</td>\n",
       "    </tr>\n",
       "    <tr>\n",
       "      <th>27816</th>\n",
       "      <td>31.75.10.1008</td>\n",
       "      <td>Ceger</td>\n",
       "    </tr>\n",
       "  </tbody>\n",
       "</table>\n",
       "<p>318 rows × 2 columns</p>\n",
       "</div>"
      ],
      "text/plain": [
       "                kode                    nama\n",
       "27499             31             DKI JAKARTA\n",
       "27500          31.01   KAB. ADM. KEP. SERIBU\n",
       "27501       31.01.01  Kepulauan Seribu Utara\n",
       "27502  31.01.01.1001          Pulau Panggang\n",
       "27503  31.01.01.1002            Pulau Kelapa\n",
       "...              ...                     ...\n",
       "27812  31.75.10.1004                  Munjul\n",
       "27813  31.75.10.1005                    Setu\n",
       "27814  31.75.10.1006              Bambu Apus\n",
       "27815  31.75.10.1007            Lubang Buaya\n",
       "27816  31.75.10.1008                   Ceger\n",
       "\n",
       "[318 rows x 2 columns]"
      ]
     },
     "execution_count": 6,
     "metadata": {},
     "output_type": "execute_result"
    }
   ],
   "source": [
    "kode = [\"31\"]\n",
    "\n",
    "def wilayah_filter(dframe, kode):\n",
    "    if type(kode) == str:\n",
    "        dframe = dframe[dframe['kode'].str.startswith(str(kode))]\n",
    "    elif type(kode) == list:\n",
    "        frames = [dframe[dframe['kode'].str.startswith(str(kd))] for kd in kode]\n",
    "        dframe= pd.concat(frames)\n",
    "    else:\n",
    "        raise ValueError(\"Kode value must be string of number or list of string of number!\")\n",
    "    \n",
    "    return dframe\n",
    "\n",
    "wilayah_filter(df, kode)"
   ]
  },
  {
   "cell_type": "code",
   "execution_count": 26,
   "metadata": {},
   "outputs": [],
   "source": [
    "df_prov = df[df['kode'].str.len()==2].copy()"
   ]
  },
  {
   "cell_type": "code",
   "execution_count": 27,
   "metadata": {},
   "outputs": [],
   "source": [
    "df_kab = df[df['kode'].str.len()==5].copy()"
   ]
  },
  {
   "cell_type": "code",
   "execution_count": 28,
   "metadata": {},
   "outputs": [],
   "source": [
    "df_kec = df[df['kode'].str.len()==8].copy()"
   ]
  },
  {
   "cell_type": "code",
   "execution_count": 29,
   "metadata": {},
   "outputs": [],
   "source": [
    "df_kel = df[df['kode'].str.len()>8].copy()"
   ]
  },
  {
   "cell_type": "code",
   "execution_count": 31,
   "metadata": {},
   "outputs": [],
   "source": [
    "# df_kab[df_kab['nama'].str.startswith('KOTA ADM.')]"
   ]
  },
  {
   "cell_type": "code",
   "execution_count": 32,
   "metadata": {},
   "outputs": [
    {
     "data": {
      "text/html": [
       "<div>\n",
       "<style scoped>\n",
       "    .dataframe tbody tr th:only-of-type {\n",
       "        vertical-align: middle;\n",
       "    }\n",
       "\n",
       "    .dataframe tbody tr th {\n",
       "        vertical-align: top;\n",
       "    }\n",
       "\n",
       "    .dataframe thead th {\n",
       "        text-align: right;\n",
       "    }\n",
       "</style>\n",
       "<table border=\"1\" class=\"dataframe\">\n",
       "  <thead>\n",
       "    <tr style=\"text-align: right;\">\n",
       "      <th></th>\n",
       "      <th>kode</th>\n",
       "      <th>nama</th>\n",
       "    </tr>\n",
       "  </thead>\n",
       "  <tbody>\n",
       "    <tr>\n",
       "      <th>27502</th>\n",
       "      <td>31.01.01.1001</td>\n",
       "      <td>Pulau Panggang</td>\n",
       "    </tr>\n",
       "    <tr>\n",
       "      <th>27503</th>\n",
       "      <td>31.01.01.1002</td>\n",
       "      <td>Pulau Kelapa</td>\n",
       "    </tr>\n",
       "    <tr>\n",
       "      <th>27504</th>\n",
       "      <td>31.01.01.1003</td>\n",
       "      <td>Pulau Harapan</td>\n",
       "    </tr>\n",
       "    <tr>\n",
       "      <th>27506</th>\n",
       "      <td>31.01.02.1001</td>\n",
       "      <td>Pulau Untung Jawa</td>\n",
       "    </tr>\n",
       "    <tr>\n",
       "      <th>27507</th>\n",
       "      <td>31.01.02.1002</td>\n",
       "      <td>Pulau Tidung</td>\n",
       "    </tr>\n",
       "    <tr>\n",
       "      <th>...</th>\n",
       "      <td>...</td>\n",
       "      <td>...</td>\n",
       "    </tr>\n",
       "    <tr>\n",
       "      <th>27812</th>\n",
       "      <td>31.75.10.1004</td>\n",
       "      <td>Munjul</td>\n",
       "    </tr>\n",
       "    <tr>\n",
       "      <th>27813</th>\n",
       "      <td>31.75.10.1005</td>\n",
       "      <td>Setu</td>\n",
       "    </tr>\n",
       "    <tr>\n",
       "      <th>27814</th>\n",
       "      <td>31.75.10.1006</td>\n",
       "      <td>Bambu Apus</td>\n",
       "    </tr>\n",
       "    <tr>\n",
       "      <th>27815</th>\n",
       "      <td>31.75.10.1007</td>\n",
       "      <td>Lubang Buaya</td>\n",
       "    </tr>\n",
       "    <tr>\n",
       "      <th>27816</th>\n",
       "      <td>31.75.10.1008</td>\n",
       "      <td>Ceger</td>\n",
       "    </tr>\n",
       "  </tbody>\n",
       "</table>\n",
       "<p>267 rows × 2 columns</p>\n",
       "</div>"
      ],
      "text/plain": [
       "                kode               nama\n",
       "27502  31.01.01.1001     Pulau Panggang\n",
       "27503  31.01.01.1002       Pulau Kelapa\n",
       "27504  31.01.01.1003      Pulau Harapan\n",
       "27506  31.01.02.1001  Pulau Untung Jawa\n",
       "27507  31.01.02.1002       Pulau Tidung\n",
       "...              ...                ...\n",
       "27812  31.75.10.1004             Munjul\n",
       "27813  31.75.10.1005               Setu\n",
       "27814  31.75.10.1006         Bambu Apus\n",
       "27815  31.75.10.1007       Lubang Buaya\n",
       "27816  31.75.10.1008              Ceger\n",
       "\n",
       "[267 rows x 2 columns]"
      ]
     },
     "execution_count": 32,
     "metadata": {},
     "output_type": "execute_result"
    }
   ],
   "source": [
    "df_kel"
   ]
  },
  {
   "cell_type": "code",
   "execution_count": null,
   "metadata": {},
   "outputs": [],
   "source": []
  }
 ],
 "metadata": {
  "kernelspec": {
   "display_name": "Python 3.6.8 64-bit ('dlearn': conda)",
   "language": "python",
   "name": "python36864bitdlearnconda54b2ea4882264d059af3c47949da46dc"
  },
  "language_info": {
   "codemirror_mode": {
    "name": "ipython",
    "version": 3
   },
   "file_extension": ".py",
   "mimetype": "text/x-python",
   "name": "python",
   "nbconvert_exporter": "python",
   "pygments_lexer": "ipython3",
   "version": "3.6.8"
  }
 },
 "nbformat": 4,
 "nbformat_minor": 4
}
