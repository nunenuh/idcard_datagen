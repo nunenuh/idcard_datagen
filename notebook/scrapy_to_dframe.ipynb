{
 "cells": [
  {
   "cell_type": "code",
   "execution_count": 34,
   "metadata": {},
   "outputs": [],
   "source": [
    "import json\n",
    "import pandas as pd\n",
    "from tqdm import tqdm"
   ]
  },
  {
   "cell_type": "code",
   "execution_count": 46,
   "metadata": {},
   "outputs": [],
   "source": [
    "def scrapy2dframe(json_file):    \n",
    "    with open(json_file) as file:\n",
    "        datas = json.load(file)\n",
    "    \n",
    "    alamat = {\n",
    "        'name':[],\n",
    "        'address': [],\n",
    "        'region':[]\n",
    "    }\n",
    "    \n",
    "    for data in tqdm(datas):\n",
    "        name = str(data['name']).strip()\n",
    "        address = str(data['address']).strip()\n",
    "        \n",
    "        alamat['name'].append(name)\n",
    "        alamat['address'].append(address)\n",
    "        alamat['region'].append(data['region'])\n",
    "\n",
    "    df = pd.DataFrame(alamat)\n",
    "    \n",
    "    return df"
   ]
  },
  {
   "cell_type": "code",
   "execution_count": 55,
   "metadata": {},
   "outputs": [
    {
     "name": "stderr",
     "output_type": "stream",
     "text": [
      "100%|██████████| 100765/100765 [00:00<00:00, 593710.90it/s]\n"
     ]
    }
   ],
   "source": [
    "df = scrapy2dframe('/home/nunenuh/study/code/repo/carialamat.scrapy/results/carialamat_v2.json')"
   ]
  },
  {
   "cell_type": "code",
   "execution_count": 56,
   "metadata": {},
   "outputs": [
    {
     "data": {
      "text/plain": [
       "name       Perguruan Tinggi Swasta\n",
       "address            Jl. Adhiyaksa 1\n",
       "region                 banjarmasin\n",
       "Name: 10055, dtype: object"
      ]
     },
     "execution_count": 56,
     "metadata": {},
     "output_type": "execute_result"
    }
   ],
   "source": [
    "df.iloc[10055]"
   ]
  },
  {
   "cell_type": "code",
   "execution_count": 30,
   "metadata": {},
   "outputs": [
    {
     "data": {
      "text/html": [
       "<div>\n",
       "<style scoped>\n",
       "    .dataframe tbody tr th:only-of-type {\n",
       "        vertical-align: middle;\n",
       "    }\n",
       "\n",
       "    .dataframe tbody tr th {\n",
       "        vertical-align: top;\n",
       "    }\n",
       "\n",
       "    .dataframe thead th {\n",
       "        text-align: right;\n",
       "    }\n",
       "</style>\n",
       "<table border=\"1\" class=\"dataframe\">\n",
       "  <thead>\n",
       "    <tr style=\"text-align: right;\">\n",
       "      <th></th>\n",
       "      <th>name</th>\n",
       "      <th>address</th>\n",
       "      <th>region</th>\n",
       "    </tr>\n",
       "  </thead>\n",
       "  <tbody>\n",
       "    <tr>\n",
       "      <th>0</th>\n",
       "      <td>PT. USAHA EXPRESS BATAM</td>\n",
       "      <td>Jl. Imam Bonjol, Komplek Bumi Indah Blok B No....</td>\n",
       "      <td>batam</td>\n",
       "    </tr>\n",
       "    <tr>\n",
       "      <th>1</th>\n",
       "      <td>SEMERU Catering Batam</td>\n",
       "      <td>Jl. Raja Isa, Komplek Ruko Purimas Blok A46 Ba...</td>\n",
       "      <td>batam</td>\n",
       "    </tr>\n",
       "    <tr>\n",
       "      <th>2</th>\n",
       "      <td>POKJAR UT BATAM</td>\n",
       "      <td>RUKO TIBAN MAS ASRI BLOKA D NO 03 - TIBAN - SE...</td>\n",
       "      <td>batam</td>\n",
       "    </tr>\n",
       "    <tr>\n",
       "      <th>3</th>\n",
       "      <td>Kantor Pengacara Desnata Firdaus &amp; Associate B...</td>\n",
       "      <td>Ruko Alexandria Business Center Blok B8 No.15,...</td>\n",
       "      <td>batam</td>\n",
       "    </tr>\n",
       "    <tr>\n",
       "      <th>4</th>\n",
       "      <td>Agen Fiforlif Batam Batam</td>\n",
       "      <td>Perum Tiban Mc Dermot II blok L no 10A\\r\\nTiba...</td>\n",
       "      <td>batam</td>\n",
       "    </tr>\n",
       "    <tr>\n",
       "      <th>...</th>\n",
       "      <td>...</td>\n",
       "      <td>...</td>\n",
       "      <td>...</td>\n",
       "    </tr>\n",
       "    <tr>\n",
       "      <th>385</th>\n",
       "      <td>Ling Ling Salon</td>\n",
       "      <td>Jl. Tanjung Pantun Blok J/10</td>\n",
       "      <td>batam</td>\n",
       "    </tr>\n",
       "    <tr>\n",
       "      <th>386</th>\n",
       "      <td>Laverna Salon</td>\n",
       "      <td>Kompleks Bumi Indah 33</td>\n",
       "      <td>batam</td>\n",
       "    </tr>\n",
       "    <tr>\n",
       "      <th>387</th>\n",
       "      <td>Krisna Salon</td>\n",
       "      <td>Kompleks Bengkong Indah Blok C/57 RT.001/03</td>\n",
       "      <td>batam</td>\n",
       "    </tr>\n",
       "    <tr>\n",
       "      <th>388</th>\n",
       "      <td>Klassik Salon</td>\n",
       "      <td>Jl. Windsor XXI Blok II/P-1</td>\n",
       "      <td>batam</td>\n",
       "    </tr>\n",
       "    <tr>\n",
       "      <th>389</th>\n",
       "      <td>Kiki Salon</td>\n",
       "      <td>Kompleks Bumi Indah Blok I/54-55</td>\n",
       "      <td>batam</td>\n",
       "    </tr>\n",
       "  </tbody>\n",
       "</table>\n",
       "<p>390 rows × 3 columns</p>\n",
       "</div>"
      ],
      "text/plain": [
       "                                                  name  \\\n",
       "0                              PT. USAHA EXPRESS BATAM   \n",
       "1                                SEMERU Catering Batam   \n",
       "2                                      POKJAR UT BATAM   \n",
       "3    Kantor Pengacara Desnata Firdaus & Associate B...   \n",
       "4                            Agen Fiforlif Batam Batam   \n",
       "..                                                 ...   \n",
       "385                                    Ling Ling Salon   \n",
       "386                                      Laverna Salon   \n",
       "387                                       Krisna Salon   \n",
       "388                                      Klassik Salon   \n",
       "389                                         Kiki Salon   \n",
       "\n",
       "                                               address region  \n",
       "0    Jl. Imam Bonjol, Komplek Bumi Indah Blok B No....  batam  \n",
       "1    Jl. Raja Isa, Komplek Ruko Purimas Blok A46 Ba...  batam  \n",
       "2    RUKO TIBAN MAS ASRI BLOKA D NO 03 - TIBAN - SE...  batam  \n",
       "3    Ruko Alexandria Business Center Blok B8 No.15,...  batam  \n",
       "4    Perum Tiban Mc Dermot II blok L no 10A\\r\\nTiba...  batam  \n",
       "..                                                 ...    ...  \n",
       "385                       Jl. Tanjung Pantun Blok J/10  batam  \n",
       "386                             Kompleks Bumi Indah 33  batam  \n",
       "387        Kompleks Bengkong Indah Blok C/57 RT.001/03  batam  \n",
       "388                        Jl. Windsor XXI Blok II/P-1  batam  \n",
       "389                   Kompleks Bumi Indah Blok I/54-55  batam  \n",
       "\n",
       "[390 rows x 3 columns]"
      ]
     },
     "execution_count": 30,
     "metadata": {},
     "output_type": "execute_result"
    }
   ],
   "source": [
    "pd.read_csv('~/study/code/repo/carialamat.scrapy/results/data.csv')"
   ]
  },
  {
   "cell_type": "code",
   "execution_count": null,
   "metadata": {},
   "outputs": [],
   "source": []
  }
 ],
 "metadata": {
  "kernelspec": {
   "display_name": "Python 3.6.8 64-bit ('dlearn': conda)",
   "language": "python",
   "name": "python36864bitdlearnconda54b2ea4882264d059af3c47949da46dc"
  },
  "language_info": {
   "codemirror_mode": {
    "name": "ipython",
    "version": 3
   },
   "file_extension": ".py",
   "mimetype": "text/x-python",
   "name": "python",
   "nbconvert_exporter": "python",
   "pygments_lexer": "ipython3",
   "version": "3.6.8"
  }
 },
 "nbformat": 4,
 "nbformat_minor": 4
}
