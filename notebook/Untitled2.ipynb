{
 "cells": [
  {
   "cell_type": "code",
   "execution_count": 1,
   "metadata": {},
   "outputs": [],
   "source": [
    "%load_ext autoreload\n",
    "%autoreload 2"
   ]
  },
  {
   "cell_type": "code",
   "execution_count": 2,
   "metadata": {},
   "outputs": [],
   "source": [
    "import random\n",
    "import time\n",
    "from pathlib import Path\n",
    "\n",
    "import cv2 as cv\n",
    "import numpy as np\n",
    "import json\n",
    "\n",
    "import matplotlib.pyplot as plt\n",
    "\n",
    "from collections import OrderedDict\n",
    "\n",
    "from datagen.imgen.ops import boxes_ops\n",
    "from datagen.imgen import transforms\n",
    "from datagen.imgen.content import utils as content_utils\n",
    "from datagen.config import data_config\n",
    "from datagen.imgen.io import fop\n",
    "\n",
    "from tqdm.notebook import tqdm\n",
    "\n",
    "from datagen.imgen.idcard import combiner \n",
    "\n",
    "# !pip install StringGenerator\n",
    "import strgen"
   ]
  },
  {
   "cell_type": "code",
   "execution_count": 233,
   "metadata": {},
   "outputs": [],
   "source": [
    "def open_json_file(path):\n",
    "    with open(str(path), 'r') as js_file:\n",
    "        json_data = json.load(js_file)\n",
    "    return json_data\n",
    "\n",
    "def append_new_line(text_file, line):\n",
    "    with open(text_file, \"a\") as a_file:\n",
    "        a_file.write(line)\n",
    "        a_file.write(\"\\n\")\n",
    "        \n",
    "def deep_text_preprocessor(src, dst, val_split=0.2):\n",
    "    train_dpath = dpath = Path(dst).joinpath(\"train\")\n",
    "    valid_dpath = dpath = Path(dst).joinpath(\"valid\")\n",
    "    \n",
    "    json_files = list(Path(idcard_path).glob(\"*.json\"))\n",
    "    img_files = list(Path(idcard_path).glob(\"*image.jpg\"))\n",
    "    json_files = sorted(json_data)\n",
    "    img_files = sorted(img_data)\n",
    "    \n",
    "    random.seed(1261)\n",
    "    val_count = int(val_spilt * len(json_files))\n",
    "    list_index = [i for i in range(len(json_files))]\n",
    "    val_index = sorted(random.sample(list_index, k=val_count))\n",
    "    trn_index = set(list_index) - set(val_index)\n",
    "    \n",
    "    json_trn_files = [json_files[i] for i in trn_index]\n",
    "    img_trn_files = [img_files[i] for i in trn_index]\n",
    "\n",
    "    json_val_files = [json_files[i] for i in val_index]\n",
    "    img_val_files = [img_files[i] for i in val_index]\n",
    "    \n",
    "    for f_idx in tqdm(range(len(json_trn_files))):\n",
    "        js = str(json_trn_files[f_idx])\n",
    "        im = str(img_trn_files[f_idx])\n",
    "        img = cv.imread(im)\n",
    "        js_dict = open_json_file(js)\n",
    "        \n",
    "        for js_obj in js_dict['objects']:\n",
    "            text, point = js_obj['text'], np.array(js_obj['points'], dtype=np.int)\n",
    "            if len(text)>1 and text!=\":\":\n",
    "                ymin, xmin, ymax, xmax = box = boxes_ops.to_xyminmax(point)\n",
    "                crop = img[ymin:ymax, xmin:xmax]\n",
    "                \n",
    "                rand_str = strgen.StringGenerator(\"[\\d\\w]{21}\").render()\n",
    "                fname = f'{rand_str}.jpg'\n",
    "                fname_gt = f'data/{rand_str}.jpg'\n",
    "                fname = str(train_dpath.joinpath('data').joinpath(fname))\n",
    "\n",
    "                cv.imwrite(fname, crop)\n",
    "\n",
    "                text_file = str(train_dpath.joinpath('gt.txt'))\n",
    "                text_line = f'{fname_gt} {text}'\n",
    "                append_new_line(text_file, text_line)\n",
    "\n",
    "        \n",
    "    for f_idx in tqdm(range(len(json_val_files))):\n",
    "        js = str(json_val_files[f_idx])\n",
    "        im = str(img_val_files[f_idx])\n",
    "        img = cv.imread(im)\n",
    "        js_dict = open_json_file(js)\n",
    "\n",
    "        for js_obj in js_dict['objects']:\n",
    "            text, point = js_obj['text'], np.array(js_obj['points'], dtype=np.int)\n",
    "            if len(text)>1 and text!=\":\":\n",
    "                ymin, xmin, ymax, xmax = box = boxes_ops.to_xyminmax(point)\n",
    "                crop = img[ymin:ymax, xmin:xmax]\n",
    "                \n",
    "                rand_str = strgen.StringGenerator(\"[\\d\\w]{21}\").render()\n",
    "                fname = f'{rand_str}.jpg'\n",
    "                fname_gt = f'data/{rand_str}.jpg'\n",
    "                fname = str(valid_dpath.joinpath('data').joinpath(fname))\n",
    "\n",
    "                cv.imwrite(fname, crop)\n",
    "\n",
    "                text_file = str(valid_dpath.joinpath('gt.txt'))\n",
    "                text_line = f'{fname_gt} {text}'\n",
    "                append_new_line(text_file, text_line)\n",
    "\n",
    "            \n",
    "        "
   ]
  },
  {
   "cell_type": "code",
   "execution_count": 234,
   "metadata": {},
   "outputs": [],
   "source": [
    "\n",
    "\n",
    "# encoded = base64.urlsafe_b64encode(b'baru')\n",
    "# encoded"
   ]
  },
  {
   "cell_type": "code",
   "execution_count": 235,
   "metadata": {},
   "outputs": [],
   "source": [
    "idcard_path = '/data/idcard/results/combined/crnn/20kv1'\n",
    "dst_path = '/data/idcard/results/combined/crnn/20kv1ptxt/'\n",
    "val_spilt = 0.2"
   ]
  },
  {
   "cell_type": "code",
   "execution_count": 236,
   "metadata": {},
   "outputs": [
    {
     "data": {
      "application/vnd.jupyter.widget-view+json": {
       "model_id": "4d8de003f0c84967abe1d9dd88a7635b",
       "version_major": 2,
       "version_minor": 0
      },
      "text/plain": [
       "HBox(children=(FloatProgress(value=0.0, max=54051.0), HTML(value='')))"
      ]
     },
     "metadata": {},
     "output_type": "display_data"
    },
    {
     "name": "stdout",
     "output_type": "stream",
     "text": [
      "\n"
     ]
    },
    {
     "ename": "KeyboardInterrupt",
     "evalue": "",
     "output_type": "error",
     "traceback": [
      "\u001b[0;31m---------------------------------------------------------------------------\u001b[0m",
      "\u001b[0;31mKeyboardInterrupt\u001b[0m                         Traceback (most recent call last)",
      "\u001b[0;32m<ipython-input-236-a37d3dbe0814>\u001b[0m in \u001b[0;36m<module>\u001b[0;34m\u001b[0m\n\u001b[0;32m----> 1\u001b[0;31m \u001b[0mdeep_text_preprocessor\u001b[0m\u001b[0;34m(\u001b[0m\u001b[0midcard_path\u001b[0m\u001b[0;34m,\u001b[0m \u001b[0mdst_path\u001b[0m\u001b[0;34m)\u001b[0m\u001b[0;34m\u001b[0m\u001b[0;34m\u001b[0m\u001b[0m\n\u001b[0m",
      "\u001b[0;32m<ipython-input-233-85a274bd070e>\u001b[0m in \u001b[0;36mdeep_text_preprocessor\u001b[0;34m(src, dst, val_split)\u001b[0m\n\u001b[1;32m     33\u001b[0m         \u001b[0mjs\u001b[0m \u001b[0;34m=\u001b[0m \u001b[0mstr\u001b[0m\u001b[0;34m(\u001b[0m\u001b[0mjson_trn_files\u001b[0m\u001b[0;34m[\u001b[0m\u001b[0mf_idx\u001b[0m\u001b[0;34m]\u001b[0m\u001b[0;34m)\u001b[0m\u001b[0;34m\u001b[0m\u001b[0;34m\u001b[0m\u001b[0m\n\u001b[1;32m     34\u001b[0m         \u001b[0mim\u001b[0m \u001b[0;34m=\u001b[0m \u001b[0mstr\u001b[0m\u001b[0;34m(\u001b[0m\u001b[0mimg_trn_files\u001b[0m\u001b[0;34m[\u001b[0m\u001b[0mf_idx\u001b[0m\u001b[0;34m]\u001b[0m\u001b[0;34m)\u001b[0m\u001b[0;34m\u001b[0m\u001b[0;34m\u001b[0m\u001b[0m\n\u001b[0;32m---> 35\u001b[0;31m         \u001b[0mimg\u001b[0m \u001b[0;34m=\u001b[0m \u001b[0mcv\u001b[0m\u001b[0;34m.\u001b[0m\u001b[0mimread\u001b[0m\u001b[0;34m(\u001b[0m\u001b[0mim\u001b[0m\u001b[0;34m)\u001b[0m\u001b[0;34m\u001b[0m\u001b[0;34m\u001b[0m\u001b[0m\n\u001b[0m\u001b[1;32m     36\u001b[0m         \u001b[0mjs_dict\u001b[0m \u001b[0;34m=\u001b[0m \u001b[0mopen_json_file\u001b[0m\u001b[0;34m(\u001b[0m\u001b[0mjs\u001b[0m\u001b[0;34m)\u001b[0m\u001b[0;34m\u001b[0m\u001b[0;34m\u001b[0m\u001b[0m\n\u001b[1;32m     37\u001b[0m \u001b[0;34m\u001b[0m\u001b[0m\n",
      "\u001b[0;31mKeyboardInterrupt\u001b[0m: "
     ]
    }
   ],
   "source": [
    "deep_text_preprocessor(idcard_path, dst_path)"
   ]
  },
  {
   "cell_type": "code",
   "execution_count": 169,
   "metadata": {},
   "outputs": [],
   "source": []
  },
  {
   "cell_type": "code",
   "execution_count": 170,
   "metadata": {},
   "outputs": [],
   "source": [
    "train_dpath = dpath = Path(dst_path).joinpath(\"train\")\n",
    "valid_dpath = dpath = Path(dst_path).joinpath(\"valid\")"
   ]
  },
  {
   "cell_type": "code",
   "execution_count": 171,
   "metadata": {},
   "outputs": [],
   "source": [
    "json_files = list(Path(idcard_path).glob(\"*.json\"))\n",
    "img_files = list(Path(idcard_path).glob(\"*image.jpg\"))\n",
    "json_files = sorted(json_data)\n",
    "img_files = sorted(img_data)"
   ]
  },
  {
   "cell_type": "code",
   "execution_count": 172,
   "metadata": {},
   "outputs": [],
   "source": [
    "random.seed(1261)\n",
    "val_count = int(val_spilt * len(json_files))\n",
    "list_index = [i for i in range(len(json_files))]\n",
    "val_index = sorted(random.sample(list_index, k=val_count))\n",
    "trn_index = set(list_index) - set(val_index)"
   ]
  },
  {
   "cell_type": "code",
   "execution_count": 173,
   "metadata": {},
   "outputs": [],
   "source": [
    "json_trn_files = [json_files[i] for i in trn_index]\n",
    "img_trn_files = [img_files[i] for i in trn_index]\n",
    "\n",
    "json_val_files = [json_files[i] for i in val_index]\n",
    "img_val_files = [img_files[i] for i in val_index]\n"
   ]
  },
  {
   "cell_type": "code",
   "execution_count": 174,
   "metadata": {},
   "outputs": [],
   "source": [
    "f_idx = 0\n",
    "js = str(json_files[f_idx])\n",
    "im = str(img_files[f_idx])\n",
    "\n",
    "img_ = cv.imread(im)\n",
    "js_dict = open_json_file(js)"
   ]
  },
  {
   "cell_type": "code",
   "execution_count": 175,
   "metadata": {},
   "outputs": [],
   "source": [
    "o_idx = 0\n",
    "js_obj = js_dict['objects'][o_idx]"
   ]
  },
  {
   "cell_type": "code",
   "execution_count": 176,
   "metadata": {},
   "outputs": [],
   "source": [
    "text, point = js_obj['text'], np.array(js_obj['points'], dtype=np.int)\n",
    "ymin, xmin, ymax, xmax = box = boxes_ops.to_xyminmax(point)\n",
    "crop = img[ymin:ymax, xmin:xmax]\n",
    "\n",
    "fname = f'{text}.jpg'\n",
    "fname_gt = f'data/{text}.jpg'\n",
    "fname = str(train_dpath.joinpath('data').joinpath(fname))\n",
    "\n",
    "cv.imwrite(fname, crop)\n",
    "\n",
    "text_file = str(train_dpath.joinpath('gt.txt'))\n",
    "text_line = f'{fname_gt} {text}'\n",
    "append_new_line(text_file, text_line)\n"
   ]
  },
  {
   "cell_type": "code",
   "execution_count": null,
   "metadata": {},
   "outputs": [],
   "source": []
  },
  {
   "cell_type": "code",
   "execution_count": null,
   "metadata": {},
   "outputs": [],
   "source": []
  }
 ],
 "metadata": {
  "kernelspec": {
   "display_name": "Python 3.6.8 64-bit ('dlearn': conda)",
   "language": "python",
   "name": "python36864bitdlearnconda8b52482a293448b0acf9689b7cde63c2"
  },
  "language_info": {
   "codemirror_mode": {
    "name": "ipython",
    "version": 3
   },
   "file_extension": ".py",
   "mimetype": "text/x-python",
   "name": "python",
   "nbconvert_exporter": "python",
   "pygments_lexer": "ipython3",
   "version": "3.6.8"
  }
 },
 "nbformat": 4,
 "nbformat_minor": 4
}
